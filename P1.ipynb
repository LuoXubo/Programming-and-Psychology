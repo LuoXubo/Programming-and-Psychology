{
 "cells": [
  {
   "cell_type": "markdown",
   "metadata": {},
   "source": [
    "# The Zen Of Python #"
   ]
  },
  {
   "cell_type": "code",
   "execution_count": null,
   "metadata": {},
   "outputs": [],
   "source": [
    "import this"
   ]
  },
  {
   "cell_type": "markdown",
   "metadata": {},
   "source": [
    "# Variables"
   ]
  },
  {
   "cell_type": "markdown",
   "metadata": {},
   "source": [
    "在 python 中，可以按如下方式声明变量并为其赋值，"
   ]
  },
  {
   "cell_type": "code",
   "execution_count": null,
   "metadata": {},
   "outputs": [],
   "source": [
    "x = 2\n",
    "y = 5\n",
    "xy = 'Hey'"
   ]
  },
  {
   "cell_type": "code",
   "execution_count": null,
   "metadata": {},
   "outputs": [],
   "source": [
    "print(x+y,type(x),type(y))\n",
    "print(xy+xy, type(xy))"
   ]
  },
  {
   "cell_type": "markdown",
   "metadata": {},
   "source": [
    "可以为多个变量分配相同的值。"
   ]
  },
  {
   "cell_type": "code",
   "execution_count": null,
   "metadata": {
    "tags": []
   },
   "outputs": [],
   "source": [
    "x = y = 1"
   ]
  },
  {
   "cell_type": "code",
   "execution_count": null,
   "metadata": {
    "tags": []
   },
   "outputs": [],
   "source": [
    "print(x)\n",
    "print(y)"
   ]
  },
  {
   "cell_type": "code",
   "execution_count": null,
   "metadata": {},
   "outputs": [],
   "source": [
    "x,y=1,33"
   ]
  },
  {
   "cell_type": "code",
   "execution_count": null,
   "metadata": {
    "tags": []
   },
   "outputs": [],
   "source": [
    "print(x)\n",
    "print(y)"
   ]
  },
  {
   "cell_type": "markdown",
   "metadata": {},
   "source": [
    "# Operators"
   ]
  },
  {
   "cell_type": "markdown",
   "metadata": {},
   "source": [
    "## Arithmetic Operators ##"
   ]
  },
  {
   "cell_type": "markdown",
   "metadata": {},
   "source": [
    "| Symbol | Task Performed |\n",
    "|----|---|\n",
    "| +  | Addition |\n",
    "| -  | Subtraction |\n",
    "| /  | division |\n",
    "| %  | mod |\n",
    "| *  | multiplication |\n",
    "| //  | floor division |\n",
    "| **  | to the power of |"
   ]
  },
  {
   "cell_type": "code",
   "execution_count": null,
   "metadata": {
    "tags": []
   },
   "outputs": [],
   "source": [
    "1+2"
   ]
  },
  {
   "cell_type": "code",
   "execution_count": null,
   "metadata": {},
   "outputs": [],
   "source": [
    "2-1"
   ]
  },
  {
   "cell_type": "code",
   "execution_count": null,
   "metadata": {},
   "outputs": [],
   "source": [
    "1*2"
   ]
  },
  {
   "cell_type": "code",
   "execution_count": null,
   "metadata": {},
   "outputs": [],
   "source": [
    "1/2"
   ]
  },
  {
   "cell_type": "code",
   "execution_count": null,
   "metadata": {},
   "outputs": [],
   "source": [
    "1/2.0"
   ]
  },
  {
   "cell_type": "code",
   "execution_count": null,
   "metadata": {},
   "outputs": [],
   "source": [
    "15%10"
   ]
  },
  {
   "cell_type": "markdown",
   "metadata": {},
   "source": [
    "Floor division是将获得的结果转换为最接近的整数。"
   ]
  },
  {
   "cell_type": "code",
   "execution_count": null,
   "metadata": {},
   "outputs": [],
   "source": [
    "2.8//2.0"
   ]
  },
  {
   "cell_type": "markdown",
   "metadata": {},
   "source": [
    "## Relational Operators"
   ]
  },
  {
   "cell_type": "markdown",
   "metadata": {},
   "source": [
    "| Symbol | Task Performed |\n",
    "|----|---|\n",
    "| == | True, if it is equal |\n",
    "| !=  | True, if not equal to |\n",
    "| < | less than |\n",
    "| > | greater than |\n",
    "| <=  | less than or equal to |\n",
    "| >=  | greater than or equal to |"
   ]
  },
  {
   "cell_type": "code",
   "execution_count": null,
   "metadata": {},
   "outputs": [],
   "source": [
    "z = 1\n",
    "print(z)"
   ]
  },
  {
   "cell_type": "code",
   "execution_count": null,
   "metadata": {},
   "outputs": [],
   "source": [
    "z == 1"
   ]
  },
  {
   "cell_type": "code",
   "execution_count": null,
   "metadata": {},
   "outputs": [],
   "source": [
    "z ==2"
   ]
  },
  {
   "cell_type": "code",
   "execution_count": null,
   "metadata": {},
   "outputs": [],
   "source": [
    "z > 1"
   ]
  },
  {
   "cell_type": "markdown",
   "metadata": {},
   "source": [
    "## Bitwise Operators"
   ]
  },
  {
   "cell_type": "markdown",
   "metadata": {},
   "source": [
    "| Symbol | Task Performed |\n",
    "|----|---|\n",
    "| &  | Logical And |\n",
    "| l  | Logical OR |\n",
    "| ^  | XOR |\n",
    "| ~  | Negate |\n",
    "| >>  | Right shift |\n",
    "| <<  | Left shift |"
   ]
  },
  {
   "cell_type": "code",
   "execution_count": null,
   "metadata": {},
   "outputs": [],
   "source": [
    "a = 10\n",
    "b = 100\n",
    "test = 50\n",
    "if (test > a) & (test < b):\n",
    "    print('test is in between a and b')\n",
    "if (test > a) | (test < b):\n",
    "    print('test is greater than a or less than b')"
   ]
  },
  {
   "cell_type": "markdown",
   "metadata": {},
   "source": [
    "# Built-in Functions"
   ]
  },
  {
   "cell_type": "markdown",
   "metadata": {},
   "source": [
    "## 数值转换"
   ]
  },
  {
   "cell_type": "markdown",
   "metadata": {},
   "source": [
    "**int( )** 当int接受两个输入时，一个是不同数制中的值，另一个是它的基数。 注意不同数制输入的数字应该是字符串类型。"
   ]
  },
  {
   "cell_type": "code",
   "execution_count": null,
   "metadata": {},
   "outputs": [],
   "source": [
    "print(int('010',8))\n",
    "print(int('0xaa',16))\n",
    "print(int('1010',2))"
   ]
  },
  {
   "cell_type": "markdown",
   "metadata": {
    "tags": []
   },
   "source": [
    "**int( )** 也可用于仅获取浮点数的整数值，或可用于将字符串类型的数字转换为整数格式。同样，函数 **str( )** 可用于将整数转换回字符串格式"
   ]
  },
  {
   "cell_type": "code",
   "execution_count": null,
   "metadata": {},
   "outputs": [],
   "source": [
    "print(int(7.7))\n",
    "print(int('7'))"
   ]
  },
  {
   "cell_type": "code",
   "execution_count": null,
   "metadata": {},
   "outputs": [],
   "source": [
    "str(10)"
   ]
  },
  {
   "cell_type": "markdown",
   "metadata": {},
   "source": [
    "## Simplifying Arithmetic Operations"
   ]
  },
  {
   "cell_type": "markdown",
   "metadata": {},
   "source": [
    "**round( )** 函数将输入值四舍五入到指定的位数或最接近的整数。"
   ]
  },
  {
   "cell_type": "code",
   "execution_count": null,
   "metadata": {},
   "outputs": [],
   "source": [
    "print(round(5.6231))\n",
    "print(round(4.55892, 2))"
   ]
  },
  {
   "cell_type": "markdown",
   "metadata": {},
   "source": [
    "**complex( )** 用于定义复数，**abs( )** 输出复数的绝对值。"
   ]
  },
  {
   "cell_type": "code",
   "execution_count": null,
   "metadata": {},
   "outputs": [],
   "source": [
    "c =complex('5+2j')\n",
    "print(c)\n",
    "print(abs(c))"
   ]
  },
  {
   "cell_type": "markdown",
   "metadata": {},
   "source": [
    "**divmod(x,y)** 以 tuple(quotient, remainder)的格式（将在下节课了解它）输出元组中的商和余数"
   ]
  },
  {
   "cell_type": "code",
   "execution_count": null,
   "metadata": {
    "tags": []
   },
   "outputs": [],
   "source": [
    "divmod(9,2)"
   ]
  },
  {
   "cell_type": "markdown",
   "metadata": {},
   "source": [
    "**isinstance( )** 用于检测第一个输入是否属于某一类，若是返回True。也可以一次检查多个类。"
   ]
  },
  {
   "cell_type": "code",
   "execution_count": null,
   "metadata": {},
   "outputs": [],
   "source": [
    "print(isinstance(1, int))\n",
    "print(isinstance(1.0,int))\n",
    "print(isinstance(1.0,(int,float)))"
   ]
  },
  {
   "cell_type": "markdown",
   "metadata": {},
   "source": [
    "**range( )** 函数输出指定范围内的整数。它还可用于通过指定特定范围内两个数字之间的差异来生成系列。所有输出的值存在一个list列表里（稍后会详细讨论）"
   ]
  },
  {
   "cell_type": "code",
   "execution_count": null,
   "metadata": {},
   "outputs": [],
   "source": [
    "print(range(3))\n",
    "print(range(2,9))\n",
    "print(range(2,27,8))"
   ]
  },
  {
   "cell_type": "markdown",
   "metadata": {},
   "source": [
    "## input()"
   ]
  },
  {
   "cell_type": "markdown",
   "metadata": {},
   "source": [
    "**input()** 接受输入并将其存储为字符串。例如，如果用户输入整数，代码应将整数转换为字符串形式。"
   ]
  },
  {
   "cell_type": "code",
   "execution_count": null,
   "metadata": {},
   "outputs": [],
   "source": [
    "abc = input(\"Type something here and it will be stored in variable abc \\t\")"
   ]
  },
  {
   "cell_type": "code",
   "execution_count": null,
   "metadata": {},
   "outputs": [],
   "source": [
    "type(abc) # Note that type( ) returns the format or the type of a variable or a number"
   ]
  },
  {
   "cell_type": "markdown",
   "metadata": {},
   "source": [
    "# Structure"
   ]
  },
  {
   "cell_type": "markdown",
   "metadata": {},
   "source": [
    "## LIST"
   ]
  },
  {
   "cell_type": "markdown",
   "metadata": {},
   "source": [
    "#### 什么是List?\n",
    "列表是包含有序元素集合的数据结构。这些元素通常属于同一类型，但也可以包含多种类型的元素（如int & str），也可以包含其他的list或dictionary之类更复杂的数据结构。\n",
    "\n",
    "#### 为什么我们要使用Lists?\n",
    "列表通常在编程中用于存储和组织数据，以便可以轻松地对其进行排序、索引或搜索。\n",
    "\n",
    "#### 我们怎么使用Lists?\n",
    "列表使用方括号储存元素，并使用逗号分隔元素例如`[a,b]`。"
   ]
  },
  {
   "cell_type": "markdown",
   "metadata": {},
   "source": [
    "### 创建列表 \n",
    "\n",
    "创建列表有两种主要方法。 第一种是使用方括号，`a=[]`，第二种是使用列表类型转换`b=list()`。"
   ]
  },
  {
   "cell_type": "code",
   "execution_count": null,
   "metadata": {},
   "outputs": [],
   "source": [
    "float_1 = float(1.5)\n",
    "list_1 = ['string item',float_1,100]\n",
    "list_a = list()\n",
    "print(list_1)\n",
    "print(list_a)\n",
    "type(list_1)"
   ]
  },
  {
   "cell_type": "markdown",
   "metadata": {},
   "source": [
    "### 在list中添加元素 ###\n",
    "现在我们有了列表，接下来可以使用Python内置的`.append()`方法添加另一个元素。"
   ]
  },
  {
   "cell_type": "code",
   "execution_count": null,
   "metadata": {},
   "outputs": [],
   "source": [
    "list_1.append('new element')\n",
    "print(list_1)\n",
    "type(list_1)"
   ]
  },
  {
   "cell_type": "markdown",
   "metadata": {},
   "source": [
    "### 修改list中的某个元素 ###\n",
    "更改列表中的元素时，你需要指定该元素位置的索引。"
   ]
  },
  {
   "cell_type": "code",
   "execution_count": null,
   "metadata": {},
   "outputs": [],
   "source": [
    "list_1[1]='Changed Item'\n",
    "print(list_1) # 为什么修改了第二个元素？？？？"
   ]
  },
  {
   "cell_type": "markdown",
   "metadata": {},
   "source": [
    "### 删除list中某个元素 ###\n",
    "要从列表中删除元素，可以使用python内置的`.pop()`。"
   ]
  },
  {
   "cell_type": "code",
   "execution_count": null,
   "metadata": {},
   "outputs": [],
   "source": [
    "list_1.pop(0)\n",
    "print(list_1)"
   ]
  },
  {
   "cell_type": "markdown",
   "metadata": {},
   "source": [
    "### 合并两个列表 ###\n",
    "有两种方法可以合并两个列表。1) 使用`.append(element)` 追加，这会将新元素添加到旧列表的末尾。"
   ]
  },
  {
   "cell_type": "code",
   "execution_count": null,
   "metadata": {},
   "outputs": [],
   "source": [
    "list_2 = ['this', 'is', 'a', 'list']\n",
    "list_1.append(list_2)\n",
    "print(list_1)"
   ]
  },
  {
   "cell_type": "markdown",
   "metadata": {},
   "source": [
    "另一种方法是使用`.insert(index, element)`方法将列表作为元素插入到列表中。"
   ]
  },
  {
   "cell_type": "code",
   "execution_count": null,
   "metadata": {},
   "outputs": [],
   "source": [
    "list_3 = [1,2,3,4]\n",
    "list_4 = [5,6,7,8]\n",
    "list_3.insert(2,list_4)\n",
    "print(list_3)"
   ]
  },
  {
   "cell_type": "markdown",
   "metadata": {},
   "source": [
    "### 读取列表中的元素 ###\n",
    "可以通过引用元素的索引号来访问列表元素。注意：列表以索引0开头。\n",
    "\n",
    "还可以使用负索引从后到前访问项目。例如，-1是列表中的最后一项，-2是倒数第二项。"
   ]
  },
  {
   "cell_type": "code",
   "execution_count": null,
   "metadata": {},
   "outputs": [],
   "source": [
    "print(list_1[0])\n",
    "print(list_1[-2])"
   ]
  },
  {
   "cell_type": "markdown",
   "metadata": {},
   "source": [
    "你还可以通过在索引之间使用冒号来引用索引范围，这些索引指的是范围的开始和结束，例如 `[start:end]` 或者如果您在开始（或结束）中省略了一个数字，它将包括从开始（或结束）到结束（或开始）的所有内容，例如 `[:end]` 将包含第一项，直到结束索引项。"
   ]
  },
  {
   "cell_type": "code",
   "execution_count": null,
   "metadata": {},
   "outputs": [],
   "source": [
    "print(list_1[0:3])\n",
    "print(list_1[2:])"
   ]
  },
  {
   "cell_type": "markdown",
   "metadata": {},
   "source": [
    "### 词典列表 ###\n",
    "下面的例子说明了如何创建一个字典列表（一个更复杂的数据结构）。"
   ]
  },
  {
   "cell_type": "code",
   "execution_count": null,
   "metadata": {},
   "outputs": [],
   "source": [
    "dict_a = {'key_1':'value_1',\n",
    "          'key_2':'value_2'}\n",
    "dict_b = {'key_3':'value_3',\n",
    "          'key_4':'value_4'}\n",
    "list_a = [dict_a, dict_b, dict_a]\n",
    "print(list_a)\n",
    "print(type(list_a))\n",
    "print(type(dict_a))"
   ]
  },
  {
   "cell_type": "markdown",
   "metadata": {},
   "source": [
    "也可以索引这个列表来获取字典。"
   ]
  },
  {
   "cell_type": "code",
   "execution_count": null,
   "metadata": {},
   "outputs": [],
   "source": [
    "print(list_a[0])\n",
    "type(list_a[0])"
   ]
  },
  {
   "cell_type": "markdown",
   "metadata": {},
   "source": [
    "### 向字典中添加元素 ###\n",
    "一旦我们创建了字典数据结构对象，下面的例子展示了如何添加一个新的成分，其中值是上面例子中的列表。"
   ]
  },
  {
   "cell_type": "code",
   "execution_count": null,
   "metadata": {},
   "outputs": [],
   "source": [
    "dict_1 = {'key_1':'value_1',\n",
    "          'key_2':'value_2'}\n",
    "\n",
    "dict_2 = dict(key_100='item_100',key_101='item_101')\n",
    "print(dict_1)\n",
    "print(dict_2)\n",
    "type(dict_1)"
   ]
  },
  {
   "cell_type": "code",
   "execution_count": null,
   "metadata": {},
   "outputs": [],
   "source": [
    "dict_1['key_3'] = 'value_3'\n",
    "print(dict_1)"
   ]
  },
  {
   "cell_type": "markdown",
   "metadata": {},
   "source": [
    "### 从字典中删除项目 ###\n",
    "要从字典中删除元素，可以使用`.pop()`方法。"
   ]
  },
  {
   "cell_type": "code",
   "execution_count": null,
   "metadata": {},
   "outputs": [],
   "source": [
    "dict_1.pop('key_1')\n",
    "print(dict_1)"
   ]
  },
  {
   "cell_type": "markdown",
   "metadata": {},
   "source": [
    "### 访问字典中的元素 ###\n",
    "要访问字典中的值，您可以使用`.get()`方法，这是首选方法，因为如果它找不到该值，它将返回一个`None`。\n",
    "\n",
    "第二种方法确实有效，但不被认为是最佳实践，因为 python抛出`KeyError`并将阻止程序继续。"
   ]
  },
  {
   "cell_type": "code",
   "execution_count": null,
   "metadata": {},
   "outputs": [],
   "source": [
    "# to access the item of a dictionary by its key use the .get() \n",
    "print(dict_1.get('key_2'))\n",
    "print(dict_1.get('key_10'))\n",
    "\n",
    "# or another way\n",
    "print(dict_1['key_2'])\n",
    "print(dict_1['key_10'])"
   ]
  },
  {
   "cell_type": "markdown",
   "metadata": {},
   "source": [
    "### 访问字典的所有成分 ###\n",
    "你可以将所有成分输出到列表中。"
   ]
  },
  {
   "cell_type": "code",
   "execution_count": null,
   "metadata": {},
   "outputs": [],
   "source": [
    "# to get all keys or values\n",
    "print(list(dict_1.keys()))\n",
    "\n",
    "# or get all values\n",
    "print(list(dict_1.values()))"
   ]
  },
  {
   "cell_type": "markdown",
   "metadata": {},
   "source": [
    "### 检查成分是否存在于字典中 ###\n",
    "查看字典是否包含特定成分总是有帮助的。"
   ]
  },
  {
   "cell_type": "code",
   "execution_count": null,
   "metadata": {},
   "outputs": [],
   "source": [
    "if 'key_2' in dict_1: \n",
    "    print(\"key_1 exists!\")"
   ]
  },
  {
   "cell_type": "code",
   "execution_count": null,
   "metadata": {},
   "outputs": [],
   "source": [
    "if 'random_key' in dict_1: \n",
    "    print(\"the key exists!\")\n",
    "else:\n",
    "    print('the key does not exist')"
   ]
  },
  {
   "cell_type": "markdown",
   "metadata": {},
   "source": [
    "#### 什么是元组（tuple）？ ####\n",
    "元组是一种数据结构，包含不可变（不可更改）元素的有序集合。这些元素通常属于同一类型，并且可以包含诸如单一数据类型之类的元素，也可以包含诸如其他列表或字典之类的更复杂的数据结构。\n",
    "\n",
    "#### 为什么我们使用元组？ ####\n",
    "元组通常在编程中用于存储和组织数据，以便可以轻松地对其进行排序、索引或搜索。由于元组是不可变的，我们不能添加、更改或删除元素。\n",
    "\n",
    "#### 我们如何使用元组？ ####\n",
    "元组使用单个等号分配给变量，并用圆括号表示，并使用逗号分隔元素`(a,b,c)`。\n",
    "\n",
    "### 创建一个元组 ###"
   ]
  },
  {
   "cell_type": "code",
   "execution_count": null,
   "metadata": {},
   "outputs": [],
   "source": [
    "tuple_1 = (1,2,3,4)\n",
    "print(tuple_1)\n",
    "type(tuple_1)"
   ]
  },
  {
   "cell_type": "code",
   "execution_count": null,
   "metadata": {},
   "outputs": [],
   "source": [
    "tuple_1[0] =2"
   ]
  },
  {
   "cell_type": "markdown",
   "metadata": {},
   "source": [
    "# Loop"
   ]
  },
  {
   "cell_type": "markdown",
   "metadata": {},
   "source": [
    "#### 什么是 Python 循环？\n",
    "在现实世界中，你经常需要一遍又一遍地重复某件事。但是，在编程时，如果你需要将某件事做 100 次，你当然不需要用 100 行相同的代码将其写出来。 在 Python 中，循环允许你迭代序列，无论是列表、元组、字符串还是字典。\n",
    "\n",
    "#### 有哪些类型的 Python 循环？\n",
    "和matlab类似，包括<b>for</b> 循环和<b>while</b> 循环。\n",
    "\n",
    "#### for循环\n",
    "\n",
    "Python中的“for”循环允许你依次遍历每个项目，一次一个。这允许你“迭代”一个“可迭代对象”，例如，Python List，并一次对每个项目执行一个操作。\n",
    "\n",
    "最简单的例子是遍历列表中的项目："
   ]
  },
  {
   "cell_type": "code",
   "execution_count": null,
   "metadata": {},
   "outputs": [],
   "source": [
    "# 在下面的示例中，for 循环将遍历 my_list 中的每个项目，将元素分配给局部变量 (\"x\")，\n",
    "# 并执行它下面的代码块来打印出 x\n",
    "\n",
    "my_list = [10, 200, 300, 40, 50, 60]\n",
    "\n",
    "for x in my_list: # <--- x 是一个变量，其范围仅限于 for 循环。 x 可以任意命名\n",
    "    print(x)"
   ]
  },
  {
   "cell_type": "markdown",
   "metadata": {},
   "source": [
    "#### <b>range() 函数</b>\n",
    "在大多数情况下，我们希望遍历一个预先确定的列表。但是，我们也可以使用 <b>range()</b> 函数生成一个列表以“即时”循环。"
   ]
  },
  {
   "cell_type": "code",
   "execution_count": null,
   "metadata": {},
   "outputs": [],
   "source": [
    "for i in range(8):\n",
    "    print(i)"
   ]
  },
  {
   "cell_type": "markdown",
   "metadata": {},
   "source": [
    "您可以将 <b>range()</b> 函数与 <b>len()</b> 函数一起使用以遍历列表，以及具有序列中当前索引的变量。"
   ]
  },
  {
   "cell_type": "code",
   "execution_count": null,
   "metadata": {},
   "outputs": [],
   "source": [
    "my_list = [10, 20, 30, 40, 50, 60]\n",
    "\n",
    "for i in range(len(my_list)):\n",
    "    print(i, my_list[i])"
   ]
  },
  {
   "cell_type": "markdown",
   "metadata": {},
   "source": [
    "#### <b>枚举</b>\n",
    "您可以使用 enumerate() 函数实现与上述相同的效果，在循环中每一步获取两个值。"
   ]
  },
  {
   "cell_type": "code",
   "execution_count": null,
   "metadata": {},
   "outputs": [],
   "source": [
    "# 每次运行循环语句时，枚举函数(enumerate)将返回两个值：\n",
    "# \"indx\" 将是当前索引值，\"val\" 将是 my_list 的当前元素\n",
    "for indx, val in enumerate(my_list):\n",
    "    print(indx, val)"
   ]
  },
  {
   "cell_type": "markdown",
   "metadata": {},
   "source": [
    "#### <b>遍历字符串中的字符</b>\n",
    "您还可以按顺序遍历文本字符串中的所有字符。"
   ]
  },
  {
   "cell_type": "code",
   "execution_count": null,
   "metadata": {},
   "outputs": [],
   "source": [
    "s = \"One at a time\"\n",
    "for character in s:\n",
    "    print(character)"
   ]
  },
  {
   "cell_type": "markdown",
   "metadata": {},
   "source": [
    "#### <b>遍历字典</b>\n",
    "#### key()\n",
    "你可以遍历字典中的所有元素（key）"
   ]
  },
  {
   "cell_type": "code",
   "execution_count": null,
   "metadata": {},
   "outputs": [],
   "source": [
    "my_dict = {'AAPL': 100, 'MSFT': 200, 'GOOG': 300, 'CSCO': 400}\n",
    "\n",
    "for key in my_dict.keys():\n",
    "    print(key)"
   ]
  },
  {
   "cell_type": "code",
   "execution_count": null,
   "metadata": {},
   "outputs": [],
   "source": [
    "my_dict = {'AAPL': 100, 'MSFT': 200, 'GOOG': 300, 'CSCO': 400}\n",
    "\n",
    "for key, value in my_dict.items():\n",
    "    print('Key= ' + key + ', Value= ' + str(value))"
   ]
  },
  {
   "cell_type": "markdown",
   "metadata": {},
   "source": [
    "#### <b>while 循环</b>\n",
    "虽然不像 <b>for</b> 循环那样频繁使用，<b>while</b> 循环允许你执行代码块直到满足特定条件。 如果你事先不知道要迭代多少次，那么 <b>while</b> 循环可能比较合适。"
   ]
  },
  {
   "cell_type": "code",
   "execution_count": null,
   "metadata": {},
   "outputs": [],
   "source": [
    "# 找到第一个大于10亿的斐波那契数\n",
    "# F(0)=1，F(1)=1, F(n)=F(n - 1)+F(n - 2)（n ≥ 2，n ∈ N*）\n",
    "a=1\n",
    "b=1\n",
    "while a < 1000000000:\n",
    "    temp=a\n",
    "    a=b\n",
    "    b=temp+a\n",
    "print(a)"
   ]
  },
  {
   "cell_type": "markdown",
   "metadata": {},
   "source": [
    "## Examples\n",
    "\n",
    "<b>1 - 计算列表中偶数元素的个数</b>\n"
   ]
  },
  {
   "cell_type": "code",
   "execution_count": null,
   "metadata": {},
   "outputs": [],
   "source": [
    "my_list_1 = [252, 9, 258, 220, 249, 83, 195, 298, 228, 67, 233, 133, 280, 96, 53, 204, \n",
    "            247, 268, 115, 127, 215, 214, 221, 275, 224, 36, 292, 145, 150, 17, 93, \n",
    "            292, 206, 229, 189, 41, 246, 279, 158, 161, 90, 47, 195, 137, 171, 5, \n",
    "            206, 106, 58, 226, 140, 6, 29, 277, 192, 47, 296, 90, 19, 290, 235, 229, \n",
    "            26, 8, 220, 168, 294, 238, 138, 150, 13, 143, 209, 102, 192, 2, 140, 6, 99, 189\n",
    "            ]\n"
   ]
  },
  {
   "cell_type": "code",
   "execution_count": null,
   "metadata": {},
   "outputs": [],
   "source": [
    "# Your code here\n",
    "\n",
    "\n",
    "\n",
    "# Advanced test：如何使用一行代码完成？"
   ]
  },
  {
   "cell_type": "markdown",
   "metadata": {},
   "source": [
    "<b>2 - 查找临床评分在一定范围的被试</b>\n",
    "\n",
    "列出某临床评分在 10 到 15 之间的被试。"
   ]
  },
  {
   "cell_type": "code",
   "execution_count": null,
   "metadata": {},
   "outputs": [],
   "source": [
    "my_dict_scores={'S01':9,'S02':10.2,'S03':None,'S04':8.3,'S05':7.9,\n",
    "            'S06':9.3,'S07':17.9,'S08':19.1,'S09':13.7,'S10':13.3}"
   ]
  },
  {
   "cell_type": "code",
   "execution_count": null,
   "metadata": {},
   "outputs": [],
   "source": [
    "# Your code here\n"
   ]
  },
  {
   "cell_type": "markdown",
   "metadata": {},
   "source": [
    "<b>3 - 计算全脑分数 </b>\n",
    "\n",
    "在某项MVPA分析中，研究人员获得了28个脑区的时间序列和其对应的权重，各脑区的时间序列乘以对应权重为该脑区分数，所有脑区分数加起来为全脑分数，请计算各脑区分数和全脑分数。"
   ]
  },
  {
   "cell_type": "code",
   "execution_count": null,
   "metadata": {},
   "outputs": [],
   "source": [
    "regions_ts = [8000, 3500, 14100, 2100, 1500, 7500, 4800, 2800, 3700, 8200, 900, 1300, 6200, 16200, 500, 2900, 5100, 5000, 10700, 1000, 1100, 16900, 800, 200, 2900, 1700, 500, 800]\n",
    "regions_weight = [0.0468147 , 0.05440846, 0.00066772, 0.05037949, 0.04558847, 0.01082269, 0.01172374, 0.05113166, 0.03832376, 0.0165398 , 0.0494976 , 0.05670673, 0.02605488, 0.00344661, 0.04650366, 0.05765252, 0.05124774, 0.05048024, 0.05407853, 0.02481087, 0.06210932, 0.02372464, 0.01094393, 0.0249678 , 0.02060492, 0.07092479, 0.03644663, 0.00339809]"
   ]
  }
 ],
 "metadata": {
  "kernelspec": {
   "display_name": "Python 3 (ipykernel)",
   "language": "python",
   "name": "python3"
  },
  "language_info": {
   "codemirror_mode": {
    "name": "ipython",
    "version": 3
   },
   "file_extension": ".py",
   "mimetype": "text/x-python",
   "name": "python",
   "nbconvert_exporter": "python",
   "pygments_lexer": "ipython3",
   "version": "3.10.9"
  }
 },
 "nbformat": 4,
 "nbformat_minor": 4
}
