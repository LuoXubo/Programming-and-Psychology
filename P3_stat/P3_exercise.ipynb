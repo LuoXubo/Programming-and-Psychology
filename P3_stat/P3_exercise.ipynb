{
 "cells": [
  {
   "cell_type": "markdown",
   "id": "4a7be282",
   "metadata": {},
   "source": [
    "1、综合练习\n",
    "做相关的热图。给定的delta.xlsx文件是记录了某次实验测量的一些问卷信息，尝试计算量表之间的相关性，并将结果可视化出来，将显著性介于0.05~0.01的用一颗标注出来，0.01～0.001的用2颗标注，小于0.001的使用***进行标注\n",
    "请把代码补充完整"
   ]
  },
  {
   "cell_type": "code",
   "execution_count": null,
   "id": "9b2a5514",
   "metadata": {},
   "outputs": [],
   "source": [
    "import pandas as pd\n",
    "import seaborn as sns\n",
    "import matplotlib.pyplot as plt\n",
    "import numpy as np\n",
    "from scipy.stats import pearsonr\n",
    "import matplotlib as mpl\n",
    "\n",
    "def cm2inch(x,y):\n",
    "    return x/2.54,y/2.54\n",
    "\n",
    "size1 = 12\n",
    "mpl.rcParams.update(\n",
    "{\n",
    "'text.usetex': False,\n",
    "'font.family': 'stixgeneral',\n",
    "'mathtext.fontset': 'stix',\n",
    "\"font.family\":'serif',\n",
    "\"font.size\": size1,\n",
    "\"font.serif\": ['Times New Roman'],\n",
    "}\n",
    ")\n",
    "fontdict = {'weight': 'bold','size':size1,'family':'SimHei'}\n",
    "\n",
    "\n",
    "fp = r'delta.xlsx'\n",
    "df = pd.read_excel(fp,sheet_name='相关',header = 0)\n",
    "df = df.dropna()\n",
    "df_coor=df.corr()\n",
    "fig = plt.figure(figsize=(cm2inch(40,36)))\n",
    "ax1 = plt.gca()\n",
    "\n",
    "#构造mask，去除重复数据显示\n",
    "mask = np.zeros_like(df_coor)\n",
    "mask[np.triu_indices_from(mask)] = True\n",
    "mask2 = mask\n",
    "mask = (np.flipud(mask)-1)*(-1)\n",
    "mask = np.rot90(mask,k = -1)\n",
    "\n",
    "im1 = sns.heatmap(df_coor,annot=True,cmap=\"RdBu\"\n",
    ", mask=mask#构造mask，去除重复数据显示\n",
    ",vmax=1,vmin=-1\n",
    ", fmt='.2f',ax = ax1)\n",
    "\n",
    "ax1.tick_params(axis = 'both', length=0)\n",
    "\n"
   ]
  },
  {
   "cell_type": "markdown",
   "id": "0903d41a",
   "metadata": {},
   "source": [
    "2、"
   ]
  }
 ],
 "metadata": {
  "kernelspec": {
   "display_name": "Python 3",
   "language": "python",
   "name": "python3"
  },
  "language_info": {
   "codemirror_mode": {
    "name": "ipython",
    "version": 3
   },
   "file_extension": ".py",
   "mimetype": "text/x-python",
   "name": "python",
   "nbconvert_exporter": "python",
   "pygments_lexer": "ipython3",
   "version": "3.8.8"
  }
 },
 "nbformat": 4,
 "nbformat_minor": 5
}
