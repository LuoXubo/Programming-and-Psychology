{
 "cells": [
  {
   "cell_type": "markdown",
   "id": "87d17582",
   "metadata": {},
   "source": [
    "# <div align='center'>Introduction to Python for data analysis: NumPy, Pandas, Matpoltlib, Seaborn libraries</div>"
   ]
  },
  {
   "cell_type": "markdown",
   "id": "e5a95d31",
   "metadata": {},
   "source": [
    "- `NumPy` 和 `Pandas` 是数据分析的两个基础库\n",
    "- `Matplotlib` 和 `Seabron` 是python中最重要的数据可视化库\n",
    "- 在这节课里，我们将学习它们，用于有效地操作和准备数据以进行数据分析和可视化。"
   ]
  },
  {
   "cell_type": "markdown",
   "id": "7079f7da",
   "metadata": {},
   "source": [
    "## <div id=\"numpy\">1. NumPy</div>\n",
    "\n",
    "[NumPy](https://numpy.org/) 是一个功能强大的库，提供全面的数学函数、随机数生成器、线性代数例程等等。它的主要数据类型是一个多维数组，称为 ```ndarray```，它比 Python 内置的列表数据类型快得多。Python 列表可以包含不同的数据类型，而在 NumPy 数组中，所有元素都应该是同类的。\n",
    "\n",
    "\n",
    "**为什么我们要用ndarray而不是Python lists?**\n",
    "\n",
    "- NumPy 数组比 Python 列表更快并且消耗更少的内存。"
   ]
  },
  {
   "cell_type": "code",
   "execution_count": 2,
   "id": "b639351e",
   "metadata": {},
   "outputs": [],
   "source": [
    "import numpy as np"
   ]
  },
  {
   "cell_type": "markdown",
   "id": "3cef6c24",
   "metadata": {},
   "source": [
    "如果上述方法不起作用，请在终端/控制台上运行以下命令：\n",
    "```\n",
    "pip install numpy -i http://mirrors.aliyun.com/pypi/simple --trusted-host aliyun.com\n",
    "```"
   ]
  },
  {
   "cell_type": "markdown",
   "id": "6bc6aadc",
   "metadata": {},
   "source": [
    "### <div id=\"ndarray\">1.A Introduction to ndarray</div>\n",
    "\n",
    "```ndarray``` 可以被认为是包含相同类型元素的表，由非负整数索引。\n",
    "这些数组是多维的，```ndarray``` 对象的维度称为axis。 可以使用 ```np.array()``` 函数创建 ```ndarray```。让我们看几个例子：\n",
    "\n",
    "<u>Example of a ndarray (1D):</u>"
   ]
  },
  {
   "cell_type": "code",
   "execution_count": null,
   "id": "ec79fc53",
   "metadata": {},
   "outputs": [],
   "source": [
    "a1d = np.array([1, 2, 0])\n",
    "a1d"
   ]
  },
  {
   "cell_type": "markdown",
   "id": "53e247e9",
   "metadata": {},
   "source": [
    "上面的数组有一个axis和三个元素（即它的长度是 3）。"
   ]
  },
  {
   "cell_type": "markdown",
   "id": "e2cc58dc",
   "metadata": {},
   "source": [
    "<u>Example of a ndarray (2D):</u>"
   ]
  },
  {
   "cell_type": "code",
   "execution_count": null,
   "id": "68f7c9bd",
   "metadata": {},
   "outputs": [],
   "source": [
    "a2d = np.array([[1, 2, 0], [2, 0, 3]])\n",
    "a2d"
   ]
  },
  {
   "cell_type": "markdown",
   "id": "77f2e23b",
   "metadata": {},
   "source": [
    "```a2d``` 数组有 2 个axis，第一个axis的长度为 2，第二个axis的长度为 3。\n",
    "\n",
    "<u>让我们来看看一些有用的方法：</u>"
   ]
  },
  {
   "cell_type": "markdown",
   "id": "467ce81a",
   "metadata": {},
   "source": [
    "1. ```ndarray.ndim```:\n",
    "\n",
    "返回数组的轴数（即维度）。 让我们确认一下："
   ]
  },
  {
   "cell_type": "code",
   "execution_count": null,
   "id": "96656287",
   "metadata": {},
   "outputs": [],
   "source": [
    "print(f'{a1d.ndim = }')\n",
    "print(f'{a2d.ndim = }')"
   ]
  },
  {
   "cell_type": "markdown",
   "id": "7bf63ed9",
   "metadata": {},
   "source": [
    "2.```ndarray.shape```：\n",
    "\n",
    "返回包含每个维度长度的元组。 对于具有 ```n``` 行和 ```m``` 列的矩阵，```shape``` 将为 ```(n,m)```。 元组的长度因此是轴的数量（即它与 ```ndim``` 一致）。 让我们确认一下："
   ]
  },
  {
   "cell_type": "code",
   "execution_count": null,
   "id": "56286df8",
   "metadata": {},
   "outputs": [],
   "source": [
    "print(f'{a1d.shape = }')\n",
    "print(f'{a2d.shape = }')"
   ]
  },
  {
   "cell_type": "markdown",
   "id": "e4050d27",
   "metadata": {},
   "source": [
    "3.```ndarray.size```：\n",
    "\n",
    "返回数组中元素的总数。 这等于形状元组中所有元素的乘积。 让我们确认一下："
   ]
  },
  {
   "cell_type": "code",
   "execution_count": null,
   "id": "f6e39140",
   "metadata": {},
   "outputs": [],
   "source": [
    "print(f'{a1d.size = }')\n",
    "print(f'{a2d.size = }')"
   ]
  },
  {
   "cell_type": "markdown",
   "id": "8e2dc2ff",
   "metadata": {},
   "source": [
    "**注意：**数组的类型是从提供的元素的类型推导出来的。\n",
    "\n",
    "有时，我们知道我们需要的数组的形状和大小，但我们不一定有元素。 对于这种情况，我们有几个不同的函数来创建带有占位符元素的数组（建议这样做而不是增加数组的大小，这是一项昂贵的操作）。 \n",
    "\n",
    "1. ```zeros(shape)```:\n",
    "\n",
    "它使用提供的形状创建一个全为零的数组。 例子："
   ]
  },
  {
   "cell_type": "code",
   "execution_count": null,
   "id": "f0670b88",
   "metadata": {},
   "outputs": [],
   "source": [
    "nzeros = np.zeros((2, 3))\n",
    "print(nzeros)"
   ]
  },
  {
   "cell_type": "markdown",
   "id": "8f5312f1",
   "metadata": {},
   "source": [
    "2. ```ones(shape)```:\n",
    "\n",
    "与 ```zeros()``` 函数类似，```ones()``` 使用提供的形状创建一个全为 1 的数组。 例子："
   ]
  },
  {
   "cell_type": "code",
   "execution_count": null,
   "id": "9ee26fd9",
   "metadata": {},
   "outputs": [],
   "source": [
    "nones = np.ones((2, 3))\n",
    "print(nones)"
   ]
  },
  {
   "cell_type": "markdown",
   "id": "0710c26a",
   "metadata": {},
   "source": [
    "**Note:** 默认情况下，创建的数组的类型是```float64```，但可以通过关键字参数```dtype```指定（这对于我们拥有的所有函数都是如此 看到，即```array()```，```zeros()``` 和```ones()```)。"
   ]
  },
  {
   "cell_type": "markdown",
   "id": "0004ed70",
   "metadata": {},
   "source": [
    "如果我们希望创建一个数字序列，我们可以使用类似于 Python 内置范围函数的 ```arange()``` 函数，但在这种情况下它会返回一个 ndarray。 例子："
   ]
  },
  {
   "cell_type": "code",
   "execution_count": null,
   "id": "dd293a4c",
   "metadata": {},
   "outputs": [],
   "source": [
    "my_sequence = np.arange(1, 30)\n",
    "my_sequence"
   ]
  },
  {
   "cell_type": "markdown",
   "id": "229a8003",
   "metadata": {},
   "source": [
    "如果我们希望创建一个浮点数序列，我们可以使用 ```linspace()``` 函数。 例如，以下将创建一个包含 0 到 1 的 11 个数字的数组："
   ]
  },
  {
   "cell_type": "code",
   "execution_count": null,
   "id": "6d61b8b5",
   "metadata": {},
   "outputs": [],
   "source": [
    "my_sequence_float = np.linspace(0, 1, 11)\n",
    "print(my_sequence_float)"
   ]
  },
  {
   "cell_type": "markdown",
   "id": "4c81a66a",
   "metadata": {},
   "source": [
    "我们可以使用 ```arange()``` 函数提供第三个参数（即一个浮点数作为步长）但有时无法预测获得的元素数量，因为 到有限的浮点精度。"
   ]
  },
  {
   "cell_type": "markdown",
   "id": "7072a45b",
   "metadata": {},
   "source": [
    "### <div id=\"operations\">1.B Arithmetic operations</div>\n",
    "\n",
    "对数组的算术运算按元素应用，并创建一个新数组并用运算结果填充。 \n",
    "让我们创建两个数组，然后进行一些操作："
   ]
  },
  {
   "cell_type": "code",
   "execution_count": null,
   "id": "e0a7232e",
   "metadata": {},
   "outputs": [],
   "source": [
    "a = np.array([1, 3, 5, 6, 8, 9, 13, 15, 12, 24])\n",
    "b = np.arange(0, 10)\n",
    "print(f'{a = }')\n",
    "print(f'{b = }')"
   ]
  },
  {
   "cell_type": "code",
   "execution_count": null,
   "id": "0ab64b0d",
   "metadata": {},
   "outputs": [],
   "source": [
    "# subtraction\n",
    "c = a - b\n",
    "print(f'c = a - b = {c}')"
   ]
  },
  {
   "cell_type": "code",
   "execution_count": null,
   "id": "0e9ecd4d",
   "metadata": {},
   "outputs": [],
   "source": [
    "# Multiplication\n",
    "c = a*2\n",
    "print(f'c = a*2 = {c}')"
   ]
  },
  {
   "cell_type": "markdown",
   "id": "fd20d13e",
   "metadata": {},
   "source": [
    "**Note:** 如果我们希望执行矩阵乘积，我们需要使用```@```运算符（在Python>=3.5中可用）或```dot()```函数。 例子："
   ]
  },
  {
   "cell_type": "code",
   "execution_count": null,
   "id": "b11e8dbf",
   "metadata": {},
   "outputs": [],
   "source": [
    "matrix_a = np.array([[0, 2], [1, 3]])\n",
    "matrix_b = np.array([[0, 1], [1, 0]])\n",
    "matrix_product = matrix_a @ matrix_b\n",
    "print(f'{matrix_product = }')"
   ]
  },
  {
   "cell_type": "code",
   "execution_count": null,
   "id": "f3372718",
   "metadata": {},
   "outputs": [],
   "source": [
    "# matrix_product"
   ]
  },
  {
   "cell_type": "code",
   "execution_count": null,
   "id": "7067a218",
   "metadata": {},
   "outputs": [],
   "source": [
    "# Exponentiation\n",
    "c = a**2\n",
    "print(f'c = a**2 = {c}')"
   ]
  },
  {
   "cell_type": "code",
   "execution_count": null,
   "id": "feec3a91",
   "metadata": {},
   "outputs": [],
   "source": [
    "# Check which elements in \"a\" are even\n",
    "c = a % 2 == 0\n",
    "print(a)\n",
    "print(c)"
   ]
  },
  {
   "cell_type": "markdown",
   "id": "dd6e3c57",
   "metadata": {},
   "source": [
    "让我们继续来看看一些有用的 NumPy 内置数学方法和函数："
   ]
  },
  {
   "cell_type": "markdown",
   "id": "ca88654e",
   "metadata": {},
   "source": [
    "1. ```sum()```:"
   ]
  },
  {
   "cell_type": "code",
   "execution_count": null,
   "id": "e48c9a9a",
   "metadata": {},
   "outputs": [],
   "source": [
    "print(f'{a = }')\n",
    "print(f'{a.sum() = }')"
   ]
  },
  {
   "cell_type": "markdown",
   "id": "97c6f1a8",
   "metadata": {},
   "source": [
    "2. ```mean()```:"
   ]
  },
  {
   "cell_type": "code",
   "execution_count": null,
   "id": "ddb237ed",
   "metadata": {},
   "outputs": [],
   "source": [
    "print(f'{a.mean() = }')"
   ]
  },
  {
   "cell_type": "markdown",
   "id": "b898a48a",
   "metadata": {},
   "source": [
    "3. ```std()```:"
   ]
  },
  {
   "cell_type": "code",
   "execution_count": null,
   "id": "26ef248a",
   "metadata": {},
   "outputs": [],
   "source": [
    "print(f'{a.std() = }')"
   ]
  },
  {
   "cell_type": "markdown",
   "id": "bca28d40",
   "metadata": {},
   "source": [
    "4. ```min()```:"
   ]
  },
  {
   "cell_type": "code",
   "execution_count": null,
   "id": "1137eba0",
   "metadata": {},
   "outputs": [],
   "source": [
    "print(f'{a.min() = }')"
   ]
  },
  {
   "cell_type": "markdown",
   "id": "a5e2fcdd",
   "metadata": {},
   "source": [
    "5. ```max()```:"
   ]
  },
  {
   "cell_type": "code",
   "execution_count": null,
   "id": "3aec7013",
   "metadata": {},
   "outputs": [],
   "source": [
    "print(f'{a.max() = }')"
   ]
  },
  {
   "cell_type": "markdown",
   "id": "3b051c10",
   "metadata": {},
   "source": [
    "**Note:** 默认情况下，上述方法使用数组中的所有元素。 但是，通过指定轴参数，我们可以沿指定轴应用操作。 例如："
   ]
  },
  {
   "cell_type": "code",
   "execution_count": null,
   "id": "4268c6af",
   "metadata": {},
   "outputs": [],
   "source": [
    "test_axis_arg = np.array([[1, 2], [3, 4]])\n",
    "print(f'{ test_axis_arg.sum(axis=0) = }')  # sum of each column\n",
    "print(f'{ test_axis_arg.sum(axis=1) = }')  # sum of each row"
   ]
  },
  {
   "cell_type": "markdown",
   "id": "20f4726e",
   "metadata": {},
   "source": [
    "\n",
    "6. ```np.multiply(a1, a2)```:"
   ]
  },
  {
   "cell_type": "code",
   "execution_count": null,
   "id": "30658bc3",
   "metadata": {},
   "outputs": [],
   "source": [
    "print(f'{np.multiply(a, b) = }')\n",
    "print(f'{a * b = }')"
   ]
  },
  {
   "cell_type": "markdown",
   "id": "fba2cc60",
   "metadata": {},
   "source": [
    "**Note:** 等同于 ```a*b```."
   ]
  },
  {
   "cell_type": "markdown",
   "id": "0da7e331",
   "metadata": {},
   "source": [
    "7. ```np.divide(a1, a2)```:"
   ]
  },
  {
   "cell_type": "code",
   "execution_count": null,
   "id": "c4bf9f12",
   "metadata": {},
   "outputs": [],
   "source": [
    "print(a)\n",
    "print(b)"
   ]
  },
  {
   "cell_type": "code",
   "execution_count": null,
   "id": "dbf2e03d",
   "metadata": {},
   "outputs": [],
   "source": [
    "print(f'{np.divide(b, a) = }')\n",
    "print(f'{b / a = }')"
   ]
  },
  {
   "cell_type": "markdown",
   "id": "b3734ecd",
   "metadata": {},
   "source": [
    "**Note:** 等同于 ```b/a```."
   ]
  },
  {
   "cell_type": "markdown",
   "id": "5820f0c3",
   "metadata": {},
   "source": [
    "8. ```np.absolute(x)```:\n"
   ]
  },
  {
   "cell_type": "code",
   "execution_count": null,
   "id": "ee41cf1a",
   "metadata": {},
   "outputs": [],
   "source": [
    "my_array = np.array([-1, -2, -100, 5, 7, -23])\n",
    "print(f'{np.absolute(my_array) = }')"
   ]
  },
  {
   "cell_type": "markdown",
   "id": "dc7a377d",
   "metadata": {},
   "source": [
    "9. ```np.log(x)```:\n"
   ]
  },
  {
   "cell_type": "code",
   "execution_count": null,
   "id": "9dde6e5a",
   "metadata": {},
   "outputs": [],
   "source": [
    "print(f'{np.log(a) = }')"
   ]
  },
  {
   "cell_type": "markdown",
   "id": "ce62951e",
   "metadata": {},
   "source": [
    "**Note:** 查询更多有用函数 [here](https://numpy.org/doc/stable/reference/ufuncs.html)."
   ]
  },
  {
   "cell_type": "markdown",
   "id": "86802787",
   "metadata": {},
   "source": [
    "### <div id=\"indexing\">1.C Indexing, slicing and iterating</div>"
   ]
  },
  {
   "cell_type": "markdown",
   "id": "d6603dfa",
   "metadata": {},
   "source": [
    "与任何其他 Python 序列一样，一维数组可以被索引、切片和迭代。 让我们看几个例子："
   ]
  },
  {
   "cell_type": "code",
   "execution_count": null,
   "id": "f9ed04e6",
   "metadata": {},
   "outputs": [],
   "source": [
    "a = np.arange(5, 15, 1)\n",
    "print(f'{a = }')\n",
    "print(f'{a[2] = }')"
   ]
  },
  {
   "cell_type": "markdown",
   "id": "0a63faa5",
   "metadata": {},
   "source": [
    "现在让我们遍历所有元素并打印它们："
   ]
  },
  {
   "cell_type": "code",
   "execution_count": null,
   "id": "bf7b3a3f",
   "metadata": {},
   "outputs": [],
   "source": [
    "for i in a:\n",
    "    print(i)"
   ]
  },
  {
   "cell_type": "markdown",
   "id": "f2ce4b97",
   "metadata": {},
   "source": [
    "如上所述，多维数组的每个轴都有一个索引。 要检索元素，我们需要给出由逗号分隔的索引。 让我们看几个例子："
   ]
  },
  {
   "cell_type": "code",
   "execution_count": null,
   "id": "8b09439d",
   "metadata": {},
   "outputs": [],
   "source": [
    "a = np.array([[1, 2, 3, 4], [2, 6, 8, 9], [3, 2, 1, 7]])\n",
    "print(f'{a = }')"
   ]
  },
  {
   "cell_type": "code",
   "execution_count": null,
   "id": "0de55e72",
   "metadata": {},
   "outputs": [],
   "source": [
    "print(f'{a[1, 2] = }')"
   ]
  },
  {
   "cell_type": "code",
   "execution_count": null,
   "id": "8b4ed5cc",
   "metadata": {},
   "outputs": [],
   "source": [
    "print(f'{a[0:2, 0] = }')"
   ]
  },
  {
   "cell_type": "code",
   "execution_count": null,
   "id": "1da59737",
   "metadata": {},
   "outputs": [],
   "source": [
    "print(f'{a[:, 0] = }')"
   ]
  },
  {
   "cell_type": "markdown",
   "id": "815eb2c4",
   "metadata": {},
   "source": [
    "**Note:** 如果我们不为坐标轴的子集提供索引，则会完全检索最后一个坐标轴。 让我们看一个例子："
   ]
  },
  {
   "cell_type": "code",
   "execution_count": null,
   "id": "bcd28493",
   "metadata": {},
   "outputs": [],
   "source": [
    "print(f'{a[2] = }')"
   ]
  },
  {
   "cell_type": "markdown",
   "id": "6218e0b5",
   "metadata": {},
   "source": [
    "以上等同于 ```print(f'{a[2, :] = }')```。\n",
    "\n",
    "我们还可以使用 ```...``` 为那些未指定的轴请求完整索引。 假设我们有一个包含 3 个轴的数组 ```my_array```，然后：\n",
    "\n",
    "```my_array[..., 2]``` 等价于 ```my_array[:, :, 2]```，而 ```my_array[1, ...]``` 等价于 ```my_array[1, :, :]```。"
   ]
  },
  {
   "cell_type": "markdown",
   "id": "df43d763",
   "metadata": {},
   "source": [
    "<u>**Boolean indexes:**</u>\n",
    "\n",
    "我们可以使用布尔索引来明确地从数组中选择我们想要的元素和不需要的元素。 为此，我们需要创建一个布尔数组，其形状与我们要从中获取数据的数组的形状相同。 例如，让我们创建一个包含负值和正值的数组，然后让我们通过获取一个布尔数组来确定哪些值是负值，哪些不是。 然后，让我们使用该布尔数组作为布尔索引从原始数组中提取负值。"
   ]
  },
  {
   "cell_type": "code",
   "execution_count": null,
   "id": "bde7c347",
   "metadata": {},
   "outputs": [],
   "source": [
    "a = np.array([0, -1, 1, -2, 8, -3, -10, 32, 14, -18, 54, -79])\n",
    "b = a < 0\n",
    "print(f'{b = }')\n",
    "negative_a = a[b]\n",
    "print(f'{negative_a = }')"
   ]
  },
  {
   "cell_type": "markdown",
   "id": "c3810bcc",
   "metadata": {},
   "source": [
    "**Note:** 我们也可以简单一行找到负数: ```negative_a = a[a < 0]```."
   ]
  },
  {
   "cell_type": "markdown",
   "id": "260288be",
   "metadata": {},
   "source": [
    "### <div id=\"shaping\">1.D 修改数组的维度</div>\n",
    "\n",
    "让我们看看几种改变数组形状的不同方法。 让我们首先创建一个我们将用于所有这些示例的数组。"
   ]
  },
  {
   "cell_type": "code",
   "execution_count": null,
   "id": "ec32a814",
   "metadata": {},
   "outputs": [],
   "source": [
    "a = np.array([[1, 2, 3, 4], [2, 6, 8, 9], [3, 2, 1, 7]])"
   ]
  },
  {
   "cell_type": "markdown",
   "id": "38661173",
   "metadata": {},
   "source": [
    "\n",
    "1. ```ravel()``` & ```flatten()```:\n",
    "\n",
    "两者都用于获得折叠成一维的数组。\n",
    "\n",
    "```flatten()``` 总是返回数组的副本，而 ```ravel()``` 尽可能返回原始数组的视图（并且原始数组未更改）。 问题是，如果 ```ravel()``` 返回的数组被修改，那么它可能会修改原始数组中的元素（因为视图方法创建了一个新的数组对象，它查看相同的数据！）。 ```flatten()``` 永远不会发生这种情况。\n"
   ]
  },
  {
   "cell_type": "code",
   "execution_count": null,
   "id": "a29ac82d",
   "metadata": {},
   "outputs": [],
   "source": [
    "print(f'{a.shape = }')\n",
    "flat_a = a.flatten()\n",
    "print(f'{flat_a = }')\n",
    "print(f'{flat_a.shape = }')"
   ]
  },
  {
   "cell_type": "markdown",
   "id": "33ed92f1",
   "metadata": {},
   "source": [
    "2.```reshape（）```：\n",
    "\n",
    "使用 ```reshape()``` 为数组赋予新形状而不更改其数据。 例子：\n",
    "\n",
    "首先，让我们将 ```a``` 数组重塑为两个轴，第一个只有两个索引，这意味着第二个轴必须有 6 个元素。"
   ]
  },
  {
   "cell_type": "code",
   "execution_count": null,
   "id": "e41c35c0",
   "metadata": {},
   "outputs": [],
   "source": [
    "a_reshaped_1 = a.reshape(2, 6)\n",
    "print(f'{a_reshaped_1 = }')\n",
    "print(f'{a_reshaped_1.shape = }')"
   ]
  },
  {
   "cell_type": "markdown",
   "id": "997aa883",
   "metadata": {},
   "source": [
    "现在让我们再次使用 ```a``` 数组并将其reshape为 (6, 2)："
   ]
  },
  {
   "cell_type": "code",
   "execution_count": null,
   "id": "2d10164f",
   "metadata": {},
   "outputs": [],
   "source": [
    "a_reshaped_2 = a.reshape(6, 2)\n",
    "print(f'{a_reshaped_2 = }')\n",
    "print(f'{a_reshaped_2.shape = }')"
   ]
  },
  {
   "cell_type": "markdown",
   "id": "d13b3a10",
   "metadata": {},
   "source": [
    "**Note:**\n",
    "- 我们可以省略其中一个尺寸并使用```-1```自动推导出相应的尺寸。 对于上面的例子，```a.reshape(6, -1)``` 等同于```a.reshape(6, 2)```"
   ]
  },
  {
   "cell_type": "markdown",
   "id": "5cd8fa96",
   "metadata": {},
   "source": [
    "3. 转置:\n"
   ]
  },
  {
   "cell_type": "code",
   "execution_count": null,
   "id": "bd319612",
   "metadata": {},
   "outputs": [],
   "source": [
    "a = np.array([[1, 2, 3], [5, 7, 9]])\n",
    "print(f'{a = }')"
   ]
  },
  {
   "cell_type": "markdown",
   "id": "b91bb831",
   "metadata": {},
   "source": [
    "使用```T``` 转置:"
   ]
  },
  {
   "cell_type": "code",
   "execution_count": null,
   "id": "525eeffa",
   "metadata": {},
   "outputs": [],
   "source": [
    "print(f'{a.T = }')"
   ]
  },
  {
   "cell_type": "markdown",
   "id": "726d4177",
   "metadata": {},
   "source": [
    "### <div id=\"concatenating\">1.E Concatenating, joining & stacking 数组</div>\n"
   ]
  },
  {
   "cell_type": "code",
   "execution_count": null,
   "id": "7c5139d0",
   "metadata": {},
   "outputs": [],
   "source": [
    "# 创建两个数组\n",
    "a = np.array([[1, 2], [3, 4]])\n",
    "b = np.array([[5, 6]])\n",
    "print(f'{a = }')\n",
    "print(f'{b = }')"
   ]
  },
  {
   "cell_type": "markdown",
   "id": "5df94550",
   "metadata": {},
   "source": [
    "假设我们想要将 ```b``` 数组作为额外元素添加到数组 ```a``` 沿axis = 0（即将其添加为另一行）。 在这种情况下，我们可以执行以下操作："
   ]
  },
  {
   "cell_type": "code",
   "execution_count": null,
   "id": "17290f65",
   "metadata": {},
   "outputs": [],
   "source": [
    "c = np.concatenate((a, b), axis=0)\n",
    "print(f'{c = }')"
   ]
  },
  {
   "cell_type": "markdown",
   "id": "7579dba1",
   "metadata": {},
   "source": [
    "假设现在我们要使用 ```b``` 数组来扩展数组 ```a``` 中的每一行（即在数组 ```a``` 中创建一个新列）。 在这种情况下，我们可以执行以下操作："
   ]
  },
  {
   "cell_type": "code",
   "execution_count": null,
   "id": "42814046",
   "metadata": {},
   "outputs": [],
   "source": [
    "c = np.concatenate((a, b.T), axis=1)\n",
    "print(f'{c = }')"
   ]
  },
  {
   "cell_type": "markdown",
   "id": "40410c39",
   "metadata": {},
   "source": [
    "For more information and examples, you can see [numpy.concatenate](https://numpy.org/doc/stable/reference/generated/numpy.concatenate.html)."
   ]
  },
  {
   "cell_type": "markdown",
   "id": "274994c5",
   "metadata": {},
   "source": [
    "### <div id=\"random\">1.F Random number generation</div>\n",
    "\n",
    "生成随机数（本例题中实际上是可重复的伪随机数）的可能性对于许多应用程序至关重要，例如机器学习。\n",
    "\n",
    "在我们可以生成数字之前，我们需要获得一个生成器的实例，我们可以使用 ```numpy.random.seed()``` 或通过以下方式实现："
   ]
  },
  {
   "cell_type": "code",
   "execution_count": null,
   "id": "b8a83d68",
   "metadata": {},
   "outputs": [],
   "source": [
    "np.random.seed(seed = 42)"
   ]
  },
  {
   "cell_type": "markdown",
   "id": "7a5da9d9",
   "metadata": {},
   "source": [
    "**Note:** 设置种子以确保可重复性（如果需要）。 如果设置了种子，则每次创建生成器的实例（使用相同的种子）时都会生成相同的数字序列。"
   ]
  },
  {
   "cell_type": "markdown",
   "id": "4191f8c7",
   "metadata": {},
   "source": [
    "例如，让我们创建一个形状为 ```(2, 3)``` 的数组，其中填充了随机随机数："
   ]
  },
  {
   "cell_type": "code",
   "execution_count": null,
   "id": "738166ac",
   "metadata": {},
   "outputs": [],
   "source": [
    "a = np.random.random((2, 3))\n",
    "print(f'{a = }')"
   ]
  },
  {
   "cell_type": "markdown",
   "id": "7f027226",
   "metadata": {},
   "source": [
    "现在让我们生成一个形状为 ```(2, 3)``` 的数组，其中填充了 0 到 9 之间的随机整数："
   ]
  },
  {
   "cell_type": "code",
   "execution_count": null,
   "id": "97ce43ae",
   "metadata": {},
   "outputs": [],
   "source": [
    "a = np.random.random_integers(10, size=(2, 3))\n",
    "print(f'{a = }')"
   ]
  },
  {
   "cell_type": "markdown",
   "id": "47020394",
   "metadata": {},
   "source": [
    "除此之外，我们可以从正态分布中生成数字。 例如，让我们从 ```mu=5``` 和 ```sigma=1``` 的正态分布中生成 10000 个数字："
   ]
  },
  {
   "cell_type": "code",
   "execution_count": null,
   "id": "195c3e29",
   "metadata": {},
   "outputs": [],
   "source": [
    "dist = np.random.normal(5, 1, 10000)\n",
    "print(f'{dist = }') "
   ]
  },
  {
   "cell_type": "markdown",
   "id": "1e4e4cc3",
   "metadata": {},
   "source": [
    "For more information about ```numpy.random``` see [here](https://numpy.org/doc/stable/reference/random/index.html)."
   ]
  },
  {
   "cell_type": "markdown",
   "id": "fd4fe4f4",
   "metadata": {},
   "source": [
    "## <div id=\"pandas\">2. Pandas</div>\n",
    "\n",
    "[Pandas](https://pandas.pydata.org/) 是一个能够以快速、强大和简单的方式处理数据的库。 Pandas 有两种主要类型的数据结构*：\n",
    "\n",
    "- ```Series```：一维标记数组，其中元素必须具有相同的数据类型。 一旦创建，其大小将无法更改。\n",
    "- ```DataFrame```：二维标记表，其中元素可以具有不同的数据类型，并且可以删除/添加。"
   ]
  },
  {
   "cell_type": "code",
   "execution_count": null,
   "id": "ea3baa9d",
   "metadata": {},
   "outputs": [],
   "source": [
    "import pandas as pd"
   ]
  },
  {
   "cell_type": "markdown",
   "id": "395ae2df",
   "metadata": {},
   "source": [
    "### <div id=\"series\">2. Series</div>\n",
    "\n",
    "Series 是一个一维带标签的数组，其对象大小不能改变："
   ]
  },
  {
   "cell_type": "code",
   "execution_count": null,
   "id": "02f9ec13",
   "metadata": {},
   "outputs": [],
   "source": [
    "my_series = pd.Series(data=[22, 1, 0], index=[\"age\", \"ndogs\",  \"ncats\"])"
   ]
  },
  {
   "cell_type": "markdown",
   "id": "a26f8734",
   "metadata": {},
   "source": [
    "```index``` 参数为用来标记数据的```list```。\n",
    "\n",
    "```data``` 参数可以采用以下任何数据类型：\n",
    "\n",
    "- ```dict```\n",
    "- ```list```\n",
    "- ```ndarray```\n",
    "\n",
    "字典中的值和数组中的元素可以是“int”、“float”或“bool”类型。\n",
    "\n",
    "如果 ```data``` 是 ```dict``` 类型并且没有提供 ```index```，则字典键将用作索引标签。\n",
    "\n",
    "请参阅 [pandas.Series](https://pandas.pydata.org/docs/reference/api/pandas.Series.html) 了解更多信息。"
   ]
  },
  {
   "cell_type": "markdown",
   "id": "779fa916",
   "metadata": {},
   "source": [
    "### <div id=\"dataframes\">2.B DataFrames</div>\n",
    "\n",
    "使用 Pandas，我们可以获取数据（来自 CSV/TSV 文件、SQL 数据库、字典、NumPy 数组等）并创建一个包含行和列的 Python 对象，称为```DataFrame```，类似于表格（例如， Microsoft Excel）\n",
    "\n",
    "有许多功能可以打开不同的文件格式。 我们将仅了解如何从 CSV 文件创建 DataFrame，您可以在 [此处](https://pandas.pydata.org/docs/reference/io.html) 找到所有其他函数。"
   ]
  },
  {
   "cell_type": "code",
   "execution_count": null,
   "id": "68d6c58f",
   "metadata": {},
   "outputs": [],
   "source": [
    "pd.DataFrame(my_series)"
   ]
  },
  {
   "cell_type": "markdown",
   "id": "89ba04a5",
   "metadata": {},
   "source": [
    "#### <div id=\"csv\">2.B.a 为一个CSV创建DataFrame</div>\n"
   ]
  },
  {
   "cell_type": "code",
   "execution_count": null,
   "id": "5b7ff89b",
   "metadata": {},
   "outputs": [],
   "source": [
    "import os\n",
    "os.listdir()"
   ]
  },
  {
   "cell_type": "code",
   "execution_count": null,
   "id": "5f3c2207",
   "metadata": {
    "scrolled": true
   },
   "outputs": [],
   "source": [
    "df = pd.read_csv('data1.csv')\n",
    "df.head(4) # 尾？"
   ]
  },
  {
   "cell_type": "code",
   "execution_count": null,
   "id": "8cc0d03f",
   "metadata": {},
   "outputs": [],
   "source": [
    "df.shape"
   ]
  },
  {
   "cell_type": "code",
   "execution_count": null,
   "id": "6c101c51",
   "metadata": {},
   "outputs": [],
   "source": [
    "df.columns"
   ]
  },
  {
   "cell_type": "code",
   "execution_count": null,
   "id": "2d1d3048",
   "metadata": {},
   "outputs": [],
   "source": [
    "len(df)"
   ]
  },
  {
   "cell_type": "code",
   "execution_count": null,
   "id": "d659820f",
   "metadata": {},
   "outputs": [],
   "source": [
    "df.describe()"
   ]
  },
  {
   "cell_type": "markdown",
   "id": "eb271058",
   "metadata": {},
   "source": [
    "There are many other methods that can be used to get statistics from a DataFrame (a Series or a column). Here is some of them:\n",
    "\n",
    "- ```df.sum()```: returns the sum of each column\n",
    "- ```df.mean()```: returns the mean of each column\n",
    "- ```df.median()```: returns the mediam of each column\n",
    "- ```df.std()```: returns the standard deviation of each column\n",
    "- ```df.corr()```: returns the correlation between columns in a data frame\n",
    "- ```df.count()```: returns the number of non-null values in each column\n",
    "- ```df.min()```: returns the lowest value in each column\n",
    "- ```df.max()```: returns the highest value in each column\n",
    "\n",
    "You can find other functions in [api-dataframe-stats](https://pandas.pydata.org/pandas-docs/version/0.20.2/api.html#api-dataframe-stats)."
   ]
  },
  {
   "cell_type": "code",
   "execution_count": null,
   "id": "763e5123",
   "metadata": {},
   "outputs": [],
   "source": [
    "pd.read_csv('data1.txt')"
   ]
  },
  {
   "cell_type": "code",
   "execution_count": null,
   "id": "90b7ceff",
   "metadata": {},
   "outputs": [],
   "source": [
    "df.head(4)"
   ]
  },
  {
   "cell_type": "markdown",
   "id": "91482ac6",
   "metadata": {},
   "source": [
    "如果我们只要```Subjectindex``` 和 ```Corre.Response```呢？"
   ]
  },
  {
   "cell_type": "code",
   "execution_count": null,
   "id": "097c411c",
   "metadata": {},
   "outputs": [],
   "source": [
    "df_corr = pd.read_csv('data1.csv', usecols = ['Subjectindex', 'Corre.Response'])\n",
    "df_corr.head(4)"
   ]
  },
  {
   "cell_type": "markdown",
   "id": "b21c70fa",
   "metadata": {},
   "source": [
    "**Note #1:** 如果 CSV 文件没有列名，则可以在使用 ```read_csv()``` 函数时使用 ```names``` 关键字定义它们。\n",
    "\n",
    "有关更多选项，请参阅 [pandas.read_csv](https://pandas.pydata.org/docs/reference/api/pandas.read_csv.html)。\n",
    "\n",
    "**Note #2:** 如果你已经创建了一个 DataFrame 并想要选择列的子集，您可以执行如下操作：\n",
    "\n",
    "```\n",
    "new_df = df[[col1, col2]]\n",
    "```\n",
    "\n",
    "```new_df``` 将只有来自```df``` DataFrame 的```col1``` 和```col2```。\n",
    "\n",
    "例如，让我们只从 ```df_corr``` 中获取 ```Corre.Response``` 列："
   ]
  },
  {
   "cell_type": "code",
   "execution_count": null,
   "id": "7ad9b9c2",
   "metadata": {},
   "outputs": [],
   "source": [
    "df_only_response = df_corr[['Corre.Response']]\n",
    "df_only_response.head(5)"
   ]
  },
  {
   "cell_type": "code",
   "execution_count": null,
   "id": "268327dc",
   "metadata": {},
   "outputs": [],
   "source": [
    "only_response_series = df_corr['Corre.Response']"
   ]
  },
  {
   "cell_type": "markdown",
   "id": "23251f31",
   "metadata": {},
   "source": [
    "#### <div id=\"dict\">2.B.b 通过字典创建一个DataFrame</div>\n",
    "\n",
    "还可以从字典中创建 DataFrame。 为了将某个 Python 对象（字典、NumPy 数组等）转换为 DataFrame，我们需要使用```pd.DataFrame()```。 有关所有选项，请参阅 [pandas.DataFrame](https://pandas.pydata.org/docs/reference/api/pandas.DataFrame.html)。"
   ]
  },
  {
   "cell_type": "code",
   "execution_count": null,
   "id": "0d43a5fc",
   "metadata": {},
   "outputs": [],
   "source": [
    "my_dict = {\n",
    "    'column1': [1, 2, 3, 4],\n",
    "    'column2': [3, 4, 2, 1],\n",
    "    'column3': [3, 5, 1, 6],\n",
    "}\n",
    "df = pd.DataFrame(my_dict)\n",
    "df.head()"
   ]
  },
  {
   "cell_type": "code",
   "execution_count": null,
   "id": "93d3c659",
   "metadata": {},
   "outputs": [],
   "source": [
    "data = [\n",
    "    {'column1': 1, 'column2': 3, 'column3': 3},\n",
    "    {'column1': 2, 'column2': 4, 'column3': 5},\n",
    "    {'column1': 3, 'column2': 2, 'column3': 1},\n",
    "    {'column1': 4, 'column2': 1, 'column3': 6},\n",
    "]\n",
    "df = pd.DataFrame(data)\n",
    "df.head()"
   ]
  },
  {
   "cell_type": "markdown",
   "id": "cf4a2b3c",
   "metadata": {},
   "source": [
    "#### <div id=\"array\">2.B.c 通过NumPy数组创建DataFrame</div>"
   ]
  },
  {
   "cell_type": "code",
   "execution_count": null,
   "id": "c61ad119",
   "metadata": {},
   "outputs": [],
   "source": [
    "array = np.array([[1, 2, 3, 4], [4, 5, 6, 7], [7, 8, 9, 10]])\n",
    "df = pd.DataFrame(array, columns=['a', 'b', 'c', 'd'])\n",
    "df.head()"
   ]
  },
  {
   "cell_type": "markdown",
   "id": "df224ab7",
   "metadata": {},
   "source": [
    "Note: The ```columns``` keyword was used to label each column."
   ]
  },
  {
   "cell_type": "markdown",
   "id": "9c2fcfbb",
   "metadata": {},
   "source": [
    "#### <div id=\"transform\">2.B.c 替换数据</div>\n",
    "\n",
    "**<u>The ```replace()``` function</u>:**\n",
    "\n",
    "如果你想替换一组特定的数据，你可以使用 ```replace()``` 函数."
   ]
  },
  {
   "cell_type": "code",
   "execution_count": null,
   "id": "a3e49205",
   "metadata": {},
   "outputs": [],
   "source": [
    "data_dict = {\n",
    "    'name': ['John', 'Maria', 'Jennifer', 'Matthias', 'Matt'],\n",
    "    'stars': [0, 2, 4, 3, 5],\n",
    "}\n",
    "df = pd.DataFrame(data_dict)\n",
    "df.head()"
   ]
  },
  {
   "cell_type": "code",
   "execution_count": null,
   "id": "8f14760d",
   "metadata": {},
   "outputs": [],
   "source": [
    "df.replace(0, 1, inplace=True)\n",
    "df.head()"
   ]
  },
  {
   "cell_type": "code",
   "execution_count": null,
   "id": "d24e5d51",
   "metadata": {},
   "outputs": [],
   "source": [
    "data_dict = {\n",
    "    'name': ['John', 'Maria', 'Jennifer', 'Matthias', 'Matt'],\n",
    "    'stars': ['one', 'two', 'three', 'four', 'five'],\n",
    "}\n",
    "df = pd.DataFrame(data_dict)\n",
    "df.head()"
   ]
  },
  {
   "cell_type": "code",
   "execution_count": null,
   "id": "6bbbfe29",
   "metadata": {},
   "outputs": [],
   "source": [
    "df.replace(['one', 'two', 'three', 'four', 'five'], [1, 2, 3, 4, 5], inplace=True)\n",
    "df.head()"
   ]
  },
  {
   "cell_type": "markdown",
   "id": "724a786d",
   "metadata": {},
   "source": [
    "Tip: 如果你想更改列的名字\n",
    "\n",
    "```\n",
    "df.rename(columns={'old_name_1': 'new_name_1', 'old_name_2': 'new_name_2'}, inplace=True)\n",
    "```"
   ]
  },
  {
   "cell_type": "markdown",
   "id": "5462c937",
   "metadata": {},
   "source": [
    "**<u>使用 NumPy 中的 ```where()``` 函数根据条件替换值</u>：**\n",
    "\n",
    "语法如下：\n",
    "\n",
    "```\n",
    "where(condition, then, else)\n",
    "```\n",
    "\n",
    "让我们再次使用```df``` DataFrame 并将stars转换为以下两个范围：```'0-3'``` 和```'3+'```："
   ]
  },
  {
   "cell_type": "code",
   "execution_count": null,
   "id": "254af6d3",
   "metadata": {},
   "outputs": [],
   "source": [
    "import copy\n",
    "import numpy as np\n",
    "df = copy.deepcopy(df)\n",
    "df['age'] = np.where(df['stars'] > 3, '3+', '0-3')\n",
    "df.head()"
   ]
  },
  {
   "cell_type": "markdown",
   "id": "b4067777",
   "metadata": {},
   "source": [
    "**<u>使用 ```applymap()``` 函数替换值</u>：**\n",
    "\n",
    "有时，需要将自定义函数应用于 DataFrame 中的每个值/元素。 对于这种情况，可以使用 ```applymap()``` 函数，它的工作方式类似于 Python 内置的 ```map()``` 函数，即将一个函数应用于 DataFrame 中的所有元素 . 让我们看看下面的DataFrame："
   ]
  },
  {
   "cell_type": "code",
   "execution_count": null,
   "id": "c5a76893",
   "metadata": {},
   "outputs": [],
   "source": [
    "data_dict = {\n",
    "    'distance_1 (m)': [10325, 45212, 829252, 87328],\n",
    "    'distance_2 (m)': [76290, 621852, 42196, 980171],\n",
    "}\n",
    "df = pd.DataFrame(data_dict)\n",
    "df.head()"
   ]
  },
  {
   "cell_type": "markdown",
   "id": "4fdb6423",
   "metadata": {},
   "source": [
    "假设所有值都对应于米，但我们希望将它们转换为千米。 在这种情况下，我们可以执行以下操作，我们定义一个函数 (```m_to_km()```) 将米转换为公里，将其作为 ```applymap()``` 函数的输入，以及 然后重命名列名："
   ]
  },
  {
   "cell_type": "code",
   "execution_count": null,
   "id": "176d09ce",
   "metadata": {},
   "outputs": [],
   "source": [
    "def m_to_km (value):\n",
    "    return value * 0.001\n",
    "\n",
    "df = df.applymap(m_to_km)\n",
    "df.rename(columns={'distance_1 (m)': 'distance_1 (km)', 'distance_2 (m)': 'distance_2 (km)'}, inplace=True)\n",
    "df.head()"
   ]
  },
  {
   "cell_type": "markdown",
   "id": "0e2a6b54",
   "metadata": {},
   "source": [
    "#### <div id=\"remove\">2.B.d 删除不需要的行/列</div>\n",
    "\n",
    "可以使用 ```drop()``` 函数从 DataFrame 中删除不需要的列或行：\n",
    "\n",
    "```df.drop(to_drop, inplace=True, axis=1)```"
   ]
  },
  {
   "cell_type": "code",
   "execution_count": null,
   "id": "ebd786cf",
   "metadata": {},
   "outputs": [],
   "source": [
    "df = pd.DataFrame(data_dict)\n",
    "\n",
    "df.drop(2, inplace=True)\n",
    "df.reset_index(inplace=True)  # force to reset indexing, so there are no missing indexes\n",
    "df.head()"
   ]
  },
  {
   "cell_type": "code",
   "execution_count": null,
   "id": "92f7b6f6",
   "metadata": {},
   "outputs": [],
   "source": [
    "df"
   ]
  },
  {
   "cell_type": "code",
   "execution_count": null,
   "id": "31b28d5d",
   "metadata": {},
   "outputs": [],
   "source": [
    "df.drop(1,inplace=True,axis=1)"
   ]
  },
  {
   "cell_type": "code",
   "execution_count": null,
   "id": "75604bfc",
   "metadata": {},
   "outputs": [],
   "source": [
    "df"
   ]
  },
  {
   "cell_type": "markdown",
   "id": "3316c8f8",
   "metadata": {},
   "source": [
    "#### <div id=\"query\">2.B.e 数据分析时一些常用函数</div>"
   ]
  },
  {
   "cell_type": "markdown",
   "id": "ae40a9eb",
   "metadata": {},
   "source": [
    "**<u>排序数据</u>：**\n",
    "\n",
    "可以根据列内容对行进行排序。\n",
    "\n",
    "- ```df.sort_values(column_1)``` 根据 ```column_1``` 列中的值按升序对 ```df``` DataFrame 进行排序。\n",
    "- ```df.sort_values(column_1, ascending=False)``` 根据 ```column_1``` 列中的值对 ```df``` DataFrame 进行降序排序。\n",
    "- ```df.sort_values([column_1, column_2], ascending=[True, False])``` 按 ```column_1``` 按升序对值进行排序，然后按 ```column_2` 对值进行排序 ``按降序排列。"
   ]
  },
  {
   "cell_type": "markdown",
   "id": "f7d401fe",
   "metadata": {},
   "source": [
    "**<u>按索引或标签选择行</u>：**\n",
    "\n",
    "有两种方法可以通过基于标签或基于位置的索引访问特定行的数据。 在前者中，我们使用 ```loc[]``` 在 DataFrame 的索引轴中选择与给定标签匹配的行，而在后者中，我们使用 ```iloc[]` 根据它们在 DataFrame 中的位置访问行 ``。 让我们看看下面的DataFrame："
   ]
  },
  {
   "cell_type": "code",
   "execution_count": null,
   "id": "4831765e",
   "metadata": {},
   "outputs": [],
   "source": [
    "df = pd.read_csv('data1.csv')\n"
   ]
  },
  {
   "cell_type": "code",
   "execution_count": null,
   "id": "9e45da19",
   "metadata": {},
   "outputs": [],
   "source": [
    "df = pd.read_csv('data1.csv')\n",
    "Subject_indexing = df.set_index(' Subjectindex')  # this is to use the country column as indexes\n",
    "Subject_indexing = Subject_indexing.rename_axis(None)  # not necessary, it is just easier to highlight that the first column is the index axis (by removing its name)\n",
    "Subject_indexing.head()"
   ]
  },
  {
   "cell_type": "code",
   "execution_count": null,
   "id": "1ccf4f87",
   "metadata": {},
   "outputs": [],
   "source": [
    "Subject_indexing.loc[3]"
   ]
  },
  {
   "cell_type": "markdown",
   "id": "35e53ec5",
   "metadata": {},
   "source": [
    "现在，我们可以使用 ```iloc[[1, 3]]``` 使用它们的数字索引位置（分别为 1 和 3）来获得相同的行："
   ]
  },
  {
   "cell_type": "code",
   "execution_count": null,
   "id": "0f63aff2",
   "metadata": {},
   "outputs": [],
   "source": [
    "Subject_indexing.iloc[[1, 3]]"
   ]
  },
  {
   "cell_type": "markdown",
   "id": "863428ef",
   "metadata": {},
   "source": [
    "**<u>选择满足条件的行</u>：**\n",
    "\n",
    "在 DataFrames 中，我们可以很容易地选择满足某些要求的数据。 让我们再次使用 ```data1```的 DataFrame 并获得一个新的 DataFrame 列出所有Audio on的试次："
   ]
  },
  {
   "cell_type": "code",
   "execution_count": null,
   "id": "8c322080",
   "metadata": {},
   "outputs": [],
   "source": [
    "df = pd.read_csv('data1.csv')\n",
    "\n",
    "df_audio_on = df[df['Audio.Onset'] == True]\n",
    "df_audio_on.head()"
   ]
  },
  {
   "cell_type": "code",
   "execution_count": null,
   "id": "0c94e2d9",
   "metadata": {},
   "outputs": [],
   "source": [
    "df_audio_on['Corre.Response'].to_numpy() # values"
   ]
  },
  {
   "cell_type": "markdown",
   "id": "6fb49ac8",
   "metadata": {},
   "source": [
    "#### <div id=\"add\">2.B.f 添加新列/行</div>\n",
    "\n",
    "**<u>添加新列</u>：**\n",
    "\n",
    "首先，让我们创建一个新的 DataFrame："
   ]
  },
  {
   "cell_type": "code",
   "execution_count": null,
   "id": "5365a41c",
   "metadata": {},
   "outputs": [],
   "source": [
    "data_dict = {\n",
    "    'A': [0, 1, 2, 3, 4],\n",
    "    'B': [1, 2, 3, 4, 5],\n",
    "    'C': [3, 1, 5, 6, 8],\n",
    "    'D': [9, 7, 1, 3, 5],\n",
    "}\n",
    "df = pd.DataFrame(data_dict)\n",
    "df.head()"
   ]
  },
  {
   "cell_type": "markdown",
   "id": "d211212d",
   "metadata": {},
   "source": [
    "现在让我们创建一个新的 ```'D'``` 列，它将是所有其他列的总和。 我们将看到两种方法："
   ]
  },
  {
   "cell_type": "markdown",
   "id": "aed62b9e",
   "metadata": {},
   "source": [
    "i. Sum of Series"
   ]
  },
  {
   "cell_type": "code",
   "execution_count": null,
   "id": "7116dfa2",
   "metadata": {},
   "outputs": [],
   "source": [
    "df['E'] = df['A'] + df['B'] + df['C'] + df['D']\n",
    "df.head()"
   ]
  },
  {
   "cell_type": "markdown",
   "id": "c5045935",
   "metadata": {},
   "source": [
    "ii. Using the ```apply()``` function:"
   ]
  },
  {
   "cell_type": "code",
   "execution_count": null,
   "id": "ecff6a60",
   "metadata": {},
   "outputs": [],
   "source": [
    "def my_sum(values):\n",
    "    return values.sum()\n",
    "\n",
    "df = pd.DataFrame(data_dict)\n",
    "df['E'] = df.apply(my_sum, axis=1)\n",
    "df.head()"
   ]
  },
  {
   "cell_type": "markdown",
   "id": "090dfc4b",
   "metadata": {},
   "source": [
    "Note: 或者用个lambda function"
   ]
  },
  {
   "cell_type": "code",
   "execution_count": null,
   "id": "2e012ca1",
   "metadata": {},
   "outputs": [],
   "source": [
    "df = pd.DataFrame(data_dict)\n",
    "df['E'] = df.apply(lambda x:x.sum(), axis=1)\n",
    "df.head()"
   ]
  },
  {
   "cell_type": "markdown",
   "id": "d45dd45c",
   "metadata": {},
   "source": [
    "## 3. Matplotlib\n",
    "\n",
    "<a id='plt'></a>"
   ]
  },
  {
   "cell_type": "markdown",
   "id": "40b34455",
   "metadata": {},
   "source": [
    "Matploblib 可以看作是 Python 及其数值数学扩展 NumPy 中最常用的二维绘图环境的基石。 特别是Matplotlib.pyplot 提供了一个类似 MATLAB 的绘图框架。 因此，pyplot 中的大多数绘图命令都有具有 Matlab plot 的相似参数。\n",
    "\n",
    "\n",
    "更多信息可以在下面找到\n",
    "\n",
    "* https://matplotlib.org/index.html\n",
    "* https://matplotlib.org/stable/api/_as_gen/matplotlib.pyplot.html。"
   ]
  },
  {
   "cell_type": "code",
   "execution_count": null,
   "id": "d86a2e5a",
   "metadata": {},
   "outputs": [],
   "source": [
    "import matplotlib.pyplot as plt"
   ]
  },
  {
   "cell_type": "markdown",
   "id": "70374d22",
   "metadata": {},
   "source": [
    "-----"
   ]
  },
  {
   "cell_type": "markdown",
   "id": "2395699b",
   "metadata": {},
   "source": [
    "### 绘制一个简单的图:\n",
    "\n",
    "<a id='plt1'></a>"
   ]
  },
  {
   "cell_type": "markdown",
   "id": "9f19a9f2",
   "metadata": {},
   "source": [
    "function $f: \\mathbb{R}\\rightarrow\\mathbb{R}^+,\\; f:x\\mapsto e^{-x}$. "
   ]
  },
  {
   "cell_type": "code",
   "execution_count": null,
   "id": "885ca65d",
   "metadata": {},
   "outputs": [],
   "source": [
    "def f(x): \n",
    "    return np.exp(-x)"
   ]
  },
  {
   "cell_type": "markdown",
   "id": "5563a7f1",
   "metadata": {},
   "source": [
    "为了说明该功能，我们使用 numpy 方法“np.linspace()”生成一个网格。 为了生成绘图，函数“plt.plot()”将 x 值和 y 值作为必要的参数。 使用方法 `plt.title()`、`plt.xlabel()` 和 `plt.ylabel()` 我们可以向图中添加额外但非常重要的信息。"
   ]
  },
  {
   "cell_type": "code",
   "execution_count": null,
   "id": "5db05c98",
   "metadata": {},
   "outputs": [],
   "source": [
    "aa = np.linspace(0, 10, 100)\n",
    "bb = f(aa)\n",
    "plt.plot(aa, bb)\n",
    "plt.title('Function $x \\mapsto e^{-x}$')\n",
    "plt.xlabel(\"$x$ values\")\n",
    "plt.ylabel('$e^{-x}$')\n",
    "plt.show()"
   ]
  },
  {
   "cell_type": "code",
   "execution_count": null,
   "id": "8eb44c7b",
   "metadata": {},
   "outputs": [],
   "source": [
    "使用了 LaTeX 符号表达式来渲染标题内容。在这个特定的标题中，$x \\mapsto e^{-x}$ 是一个 LaTeX 表达式，用来表示函数的映射关系。其中 $ 符号用于指示 LaTeX 表达式的开始和结束。\n",
    "\n",
    "x \\mapsto e^{-x} 表达式中的符号含义如下：\n",
    "\n",
    "\\mapsto：箭头符号，表示映射关系。\n",
    "\n",
    "x：自变量。\n",
    "\n",
    "e^{-x}：函数的表达式，这里是指数函数的负指数形式。"
   ]
  },
  {
   "cell_type": "code",
   "execution_count": null,
   "id": "143f2d5a",
   "metadata": {},
   "outputs": [],
   "source": [
    "1. 上下标：\n",
    "- 上标：`x^2` 表示 x 的平方。\n",
    "- 下标：`x_1` 表示 x 的下标为 1。\n",
    "\n",
    "2. 求和、积分和极限：\n",
    "- 求和符号：`\\sum_{i=1}^{n} x_i` 表示求和，i 从 1 到 n，对应的变量为 `x`。\n",
    "- 积分符号：`\\int_{a}^{b} f(x) dx` 表示积分，积分变量为 `x`，积分的范围是从 `a` 到 `b`。\n",
    "- 极限符号：`\\lim_{x \\to \\infty} f(x)` 表示当 x 趋向于无穷大时，函数 `f(x)` 的极限。\n",
    "\n",
    "3. 分数和根号：\n",
    "- 分数：`\\frac{a}{b}` 表示 a 除以 b 的分数形式。\n",
    "- 开平方：`\\sqrt{x}` 表示 x 的平方根。\n",
    "\n",
    "4. 希腊字母：\n",
    "- `\\alpha`：表示小写的 α。\n",
    "- `\\beta`：表示小写的 β。\n",
    "- `\\gamma`：表示小写的 γ。\n",
    "- `\\Delta`：表示大写的 Δ。\n",
    "- `\\omega`：表示小写的 ω。\n",
    "\n",
    "5. 箭头符号：\n",
    "- `\\rightarrow`：表示右箭头。\n",
    "- `\\leftarrow`：表示左箭头。\n",
    "- `\\Rightarrow`：表示右双箭头。\n",
    "- `\\Leftarrow`：表示左双箭头。\n",
    "\n",
    "6. 常见数学函数：\n",
    "- `\\sin(x)`：表示正弦函数。\n",
    "- `\\cos(x)`：表示余弦函数。\n",
    "- `\\log(x)`：表示对数函数。\n",
    "- `\\exp(x)`：表示指数函数。\n",
    "- `\\frac{d}{dx}`：表示微分符号。\n",
    "\n"
   ]
  },
  {
   "cell_type": "markdown",
   "id": "7441073a",
   "metadata": {},
   "source": [
    "-----"
   ]
  },
  {
   "cell_type": "markdown",
   "id": "623a7889",
   "metadata": {},
   "source": [
    "### 一个简单的直方图：\n",
    "\n",
    "<a id='plt2'></a>"
   ]
  },
  {
   "cell_type": "markdown",
   "id": "34514408",
   "metadata": {},
   "source": [
    "要分析或建模数据，尝试了解底层分布通常是一种好方法。 （经验）分布的可视化通常可以为许多重要问题提供早期答案。 观察的范围是什么？ 他们的中心趋势是什么？ 它们是否严重偏向一个方向？ Etc"
   ]
  },
  {
   "cell_type": "markdown",
   "id": "e29a7e80",
   "metadata": {},
   "source": [
    "也许最常见的可视化分布的方法是直方图。 直方图是条形图，其中代表数据变量的轴被分成一组离散的 bin，落在每个 bin 中的观测值计数使用相应条形的高度显示。"
   ]
  },
  {
   "cell_type": "markdown",
   "id": "eebb6fed",
   "metadata": {},
   "source": [
    "使用 plt.hist() 方法，可以绘制给定随机向量的经验直方图。 此外，还可以设置 bin 的数量。 默认情况下，直方图的 bins 显示观察的绝对数量。 但是，可以使用“密度”参数来观察观察的相对发生。"
   ]
  },
  {
   "cell_type": "code",
   "execution_count": null,
   "id": "b316cfa5",
   "metadata": {},
   "outputs": [],
   "source": [
    "xx = np.random.normal(size=20000)\n",
    "\n",
    "plt.hist(xx, bins=50)\n",
    "plt.title('Empirical histogram of a Gaussian sample (absolut)')\n",
    "plt.show()\n",
    "\n",
    "plt.hist(xx, bins=50, density = True)\n",
    "plt.title('Empirical histogram of a Gaussian sample (density)')\n",
    "plt.show()"
   ]
  },
  {
   "cell_type": "markdown",
   "id": "561718d8",
   "metadata": {},
   "source": [
    "----"
   ]
  },
  {
   "cell_type": "markdown",
   "id": "0dc5878f",
   "metadata": {},
   "source": [
    "### Multiple plots (subplots):\n",
    "\n",
    "<a id='plt3'></a>"
   ]
  },
  {
   "cell_type": "markdown",
   "id": "471c7426",
   "metadata": {},
   "source": [
    "避免像上面那样分别创建两个图，可以使用 `plt.subplots()` 为多个图生成一个空白画布。 特别是，函数的第一个参数“nrows”定义行数，第二个参数“ncols”定义列数。 此外，可以定义图形的大小，如下一个单元格所示。"
   ]
  },
  {
   "cell_type": "code",
   "execution_count": null,
   "id": "02a13845",
   "metadata": {},
   "outputs": [],
   "source": [
    "#This creates a blank canvas for 6 plots.\n",
    "fig, ax = plt.subplots(nrows = 3, ncols = 2, figsize=(10, 6))\n",
    "plt.show()"
   ]
  },
  {
   "cell_type": "markdown",
   "id": "106f3320",
   "metadata": {},
   "source": [
    "----"
   ]
  },
  {
   "cell_type": "markdown",
   "id": "76c5582d",
   "metadata": {},
   "source": [
    "### Scatter plots:\n",
    "\n",
    "<a id='plt4'></a>"
   ]
  },
  {
   "cell_type": "markdown",
   "id": "24587f1c",
   "metadata": {},
   "source": [
    "散点图用于在水平轴和垂直轴上绘制数据点，以可视化可能的依赖结构。 要生成这样的图，可以使用 `plt.scatter()`。 使用 `color` 或 `marker` 等参数可以自定义绘图。"
   ]
  },
  {
   "cell_type": "code",
   "execution_count": null,
   "id": "4459d885",
   "metadata": {},
   "outputs": [],
   "source": [
    "n = 1000\n",
    "fig, ax = plt.subplots(nrows=1, ncols=2, figsize=(10, 4))\n",
    "#Accessing the first plot\n",
    "plt.subplot(1, 2, 1)\n",
    "aa = np.random.normal(0., 3., n)\n",
    "bb = np.random.normal(0., 1., n)\n",
    "plt.scatter(aa, bb, color='r')\n",
    "plt.title('Scatter plot of a Gaussian sample')\n",
    "\n",
    "#Accessing the second plot\n",
    "plt.subplot(1, 2, 2)\n",
    "aa = np.random.rand(n)\n",
    "bb = np.random.rand(n)\n",
    "plt.scatter(aa, bb, color='b', marker='+')\n",
    "plt.title('Scatter plot of a Uniform sample')\n",
    "plt.show()"
   ]
  },
  {
   "cell_type": "markdown",
   "id": "d4a250dd",
   "metadata": {},
   "source": [
    "-----"
   ]
  },
  {
   "cell_type": "markdown",
   "id": "7436031c",
   "metadata": {},
   "source": [
    "## 5.2. Seaborn\n",
    "\n",
    "<a id='sns'></a>"
   ]
  },
  {
   "cell_type": "markdown",
   "id": "fbd6a7e3",
   "metadata": {},
   "source": [
    "Seaborn 是一个用 Python 制作统计图形的库。 它建立在 matplotlib 之上，并与 pandas 数据结构紧密集成。\n",
    "\n",
    "Seaborn 帮助你探索和理解数据。 它的绘图函数对包含整个数据集的数据帧和数组进行操作，并在内部执行必要的语义映射和统计聚合以生成信息图。\n",
    "\n",
    "有关 https://seaborn.pydata.org/ 的更多信息。"
   ]
  },
  {
   "cell_type": "markdown",
   "id": "07a729d1",
   "metadata": {},
   "source": [
    "-----"
   ]
  },
  {
   "cell_type": "markdown",
   "id": "6c52cd3a",
   "metadata": {},
   "source": [
    "### Matplotlib vs. Seaborn:\n",
    "<a id='sns1'></a>"
   ]
  },
  {
   "cell_type": "markdown",
   "id": "d8a66230",
   "metadata": {},
   "source": [
    "下面演示了默认的 matplotlib 和 seaborn 设计的区别。"
   ]
  },
  {
   "cell_type": "code",
   "execution_count": 3,
   "id": "f229b8a6",
   "metadata": {},
   "outputs": [],
   "source": [
    "n, p = 100, 5\n",
    "xx = np.linspace(0., 1., n)\n",
    "yy = np.cumsum(np.random.randn(n, p), axis=0)"
   ]
  },
  {
   "cell_type": "code",
   "execution_count": 4,
   "id": "19d0f581",
   "metadata": {},
   "outputs": [],
   "source": [
    "import matplotlib.pyplot as plt\n",
    "plt.style.use('classic')\n",
    "%matplotlib inline"
   ]
  },
  {
   "cell_type": "code",
   "execution_count": null,
   "id": "53646e7b",
   "metadata": {},
   "outputs": [],
   "source": [
    "%matplotlib inline：这是一个 IPython 魔术命令，用于在 Jupyter Notebook 或 JupyterLab 中将图形显示在输出单元格中。它告诉 Jupyter 内核将图形嵌入到笔记本中，并在代码单元格执行时自动显示图形输出。\n",
    "\n",
    "请注意，%matplotlib inline 只在 Jupyter Notebook 或 JupyterLab 中使用，并且应该在绘图代码之前执行。"
   ]
  },
  {
   "cell_type": "code",
   "execution_count": 5,
   "id": "8a853f99",
   "metadata": {},
   "outputs": [
    {
     "data": {
      "image/png": "[encoded data removed]",
      "text/plain": [
       "<Figure size 432x288 with 1 Axes>"
      ]
     },
     "metadata": {
      "needs_background": "light"
     },
     "output_type": "display_data"
    }
   ],
   "source": [
    "plt.plot(xx, yy)\n",
    "plt.legend('ABCDEF', ncol=2, loc='upper left')\n",
    "plt.title(\"Matplotlib Plot\")\n",
    "plt.show()"
   ]
  },
  {
   "cell_type": "code",
   "execution_count": 6,
   "id": "f7017c81",
   "metadata": {},
   "outputs": [
    {
     "data": {
      "image/png": "[encoded data removed]",
      "text/plain": [
       "<Figure size 432x288 with 1 Axes>"
      ]
     },
     "metadata": {},
     "output_type": "display_data"
    }
   ],
   "source": [
    "import seaborn as sns\n",
    "# Sets the visual framework of Seaborn\n",
    "sns.set()\n",
    "# Same plotting code as above!\n",
    "plt.plot(xx, yy)\n",
    "plt.legend('ABCEF', ncol=2, loc='upper left')\n",
    "plt.title(\"Seaborn Plot\")\n",
    "plt.show()"
   ]
  },
  {
   "cell_type": "markdown",
   "id": "154c814c",
   "metadata": {},
   "source": [
    "-----"
   ]
  },
  {
   "cell_type": "code",
   "execution_count": null,
   "id": "3dddbfbf",
   "metadata": {},
   "outputs": [],
   "source": [
    "Matplotlib和Seaborn都是用于数据可视化的Python库，它们在功能和设计上有一些异同。\n",
    "\n",
    "异同点：\n",
    "\n",
    "目标受众：Matplotlib是一个通用的绘图库，适用于各种类型的数据可视化，包括科学、工程、统计等领域。Seaborn则专注于统计数据可视化，提供了一些更高级的绘图功能，用于探索和展示统计模型的结果。\n",
    "\n",
    "风格和美观性：Seaborn在设计上更注重美观性和可视化风格的一致性，它提供了各种美观且易于使用的主题和调色板，使得绘图更加吸引人和专业。Matplotlib则更加灵活，可以通过自定义设置来实现各种风格和样式。\n",
    "\n",
    "默认设置：Seaborn在一些绘图任务中具有更合适的默认设置，例如在创建统计图表时，Seaborn会自动调整坐标轴、标签、标题等，以提供更清晰和易读的结果。Matplotlib默认的设置相对较简单，需要手动设置来达到期望的效果。\n",
    "\n",
    "绘图类型：Matplotlib提供了广泛的绘图类型，包括线图、散点图、柱状图、饼图等，以及各种高级绘图功能。Seaborn则专注于统计图表，例如直方图、核密度估计图、箱线图、热图等，通过简单的API调用即可创建这些常见的统计图表。\n",
    "\n",
    "API和易用性：Seaborn的API设计更加简单和易用，它提供了一些高级的绘图函数和参数，使得创建统计图表变得简单明了。Matplotlib则更加灵活，可以通过底层的对象和方法进行更精细的控制，但可能需要更多的代码量。\n",
    "\n",
    "综上所述，Matplotlib和Seaborn都是强大的数据可视化工具，它们在目标受众、风格和美观性、默认设置、绘图类型以及API和易用性等方面存在一些异同。根据具体的需求和偏好，选择适合的库来实现所需的数据可视化效果。"
   ]
  },
  {
   "cell_type": "code",
   "execution_count": 7,
   "id": "6ddf6265",
   "metadata": {},
   "outputs": [],
   "source": [
    "import pandas as pd\n",
    "import seaborn as sns\n",
    "sns.set(rc={'figure.figsize':(12,8)})"
   ]
  },
  {
   "cell_type": "markdown",
   "id": "db1f2b50",
   "metadata": {},
   "source": [
    "---\n",
    "## 加载示例数据\n",
    "我们将使用 美国1990年NHANES（国家健康和营养检查调查）的数据集进行练习。 变量如下：\n",
    "\n",
    "- Region - 美国的地理区域：东北部 (1)、中西部 (2)、南部 (3) 和西部 (4)\n",
    "- Sex - 生理性别：男 (1)、女 (2)\n",
    "- Age - 以月为单位的年龄（我们将在下面将其转换为年）\n",
    "- Urban - 居住人口密度：都会区 (1)，其他 (2)\n",
    "- Weight - 重量（磅）\n",
    "- Height - 以英寸为单位的高度\n",
    "- BMI - BMI，单位为 kg/(m^2)"
   ]
  },
  {
   "cell_type": "code",
   "execution_count": null,
   "id": "633dc018",
   "metadata": {},
   "outputs": [],
   "source": [
    "nhanes = pd.read_csv(\"NHANES1990.csv\")\n",
    "nhanes.head()"
   ]
  },
  {
   "cell_type": "code",
   "execution_count": null,
   "id": "40695775",
   "metadata": {},
   "outputs": [],
   "source": [
    "# 预处理一下数据集\n",
    "nhanes['Age'] = nhanes['Age']/12 # 转换成年\n",
    "nhanes['Weight'] = nhanes['Weight']/2.2046 # 转换成kg\n",
    "nhanes['Urban'] = nhanes['Urban'].replace({1:'Downtown',2:'others'}) # 用字符串替代数字\n",
    "nhanes['Region'] = nhanes['Region'].replace({1:'NE',2:'MidW',3:'S',4:'W'}) # 用字符串替代数字\n",
    "nhanes['Sex'] = nhanes['Sex'].replace({1:'Male',2:'Felmale'}) # 用字符串替代数字"
   ]
  },
  {
   "cell_type": "code",
   "execution_count": null,
   "id": "81ec10f2",
   "metadata": {},
   "outputs": [],
   "source": [
    "nhanes.head()"
   ]
  },
  {
   "cell_type": "markdown",
   "id": "bfcb49ef",
   "metadata": {},
   "source": [
    "---\n",
    "## Scatter Plots"
   ]
  },
  {
   "cell_type": "markdown",
   "id": "1e748cf9",
   "metadata": {},
   "source": [
    "`seaborn` 可以使用单行命令创建有吸引力且具有出版质量的数据可视化。 我们将从散点图开始，通过使用 `scatterplot()` 函数来查看我们的一些变量是如何分布的。"
   ]
  },
  {
   "cell_type": "code",
   "execution_count": null,
   "id": "556dc047",
   "metadata": {},
   "outputs": [],
   "source": [
    "sns.scatterplot(x=\"Age\",y=\"Weight\",data=nhanes)"
   ]
  },
  {
   "cell_type": "markdown",
   "id": "2667ddfc",
   "metadata": {},
   "source": [
    "我们还可以使用点的`Size`轻松表示此位置上数据的其他维度。 让我们将其映射到`BMI`"
   ]
  },
  {
   "cell_type": "code",
   "execution_count": null,
   "id": "b17ca912",
   "metadata": {},
   "outputs": [],
   "source": [
    "sns.scatterplot(x=\"Age\",y=\"Weight\",data=nhanes,size=\"BMI\",) # sizes=(10, 200)"
   ]
  },
  {
   "cell_type": "markdown",
   "id": "5c856f67",
   "metadata": {},
   "source": [
    "我们甚至可以通过将点的颜色映射到类别变量来为该可视化添加第四个维度。 现在让我们使用 `hue` 参数根据城市或非城市来表示每个点："
   ]
  },
  {
   "cell_type": "code",
   "execution_count": null,
   "id": "27964b6e",
   "metadata": {},
   "outputs": [],
   "source": [
    "sns.scatterplot(x=\"Age\",y=\"Weight\",data=nhanes,size=\"BMI\",hue=\"Urban\")"
   ]
  },
  {
   "cell_type": "code",
   "execution_count": null,
   "id": "d05a952d",
   "metadata": {},
   "outputs": [],
   "source": [
    "sns.scatterplot(x=\"Age\",y=\"Weight\",data=nhanes,size=\"BMI\",hue=\"Sex\")"
   ]
  },
  {
   "cell_type": "markdown",
   "id": "1241951c",
   "metadata": {},
   "source": [
    "使用 `seaborn` 可以通过多种方式改变和自定义此可视化。 该包有很好的文档记录，您可以在此处查看包含所有功能示例的参考资料：https://seaborn.pydata.org/api.html。"
   ]
  },
  {
   "cell_type": "markdown",
   "id": "5279ce4e",
   "metadata": {},
   "source": [
    "---\n",
    "## 直方图和数据分布\n",
    "\n",
    "我们可以使用 distplot() 函数来查看直方图和数据分布的平滑估计。"
   ]
  },
  {
   "cell_type": "code",
   "execution_count": null,
   "id": "d5f64573",
   "metadata": {},
   "outputs": [],
   "source": [
    "sns.distplot(nhanes[\"Weight\"]);"
   ]
  },
  {
   "cell_type": "markdown",
   "id": "7795eb4a",
   "metadata": {},
   "source": [
    "如果我们只想查看直方图，我们可以将 `kde` 参数设置为 `False`："
   ]
  },
  {
   "cell_type": "code",
   "execution_count": null,
   "id": "f95de623",
   "metadata": {},
   "outputs": [],
   "source": [
    "sns.distplot(nhanes[\"Weight\"],kde=False);"
   ]
  },
  {
   "cell_type": "markdown",
   "id": "6fff6d66",
   "metadata": {},
   "source": [
    "---\n",
    "## jointplot\n",
    "`seaborn` 也有一些快速的方法可以使用 `jointplot()` 结合上面的单变量直方图/密度图和散点图。 默认情况下，此函数将为两个连续的 x 和 y 变量绘制散点图和直方图："
   ]
  },
  {
   "cell_type": "code",
   "execution_count": null,
   "id": "07315398",
   "metadata": {},
   "outputs": [],
   "source": [
    "sns.jointplot(x=\"Age\",y=\"Weight\",data=nhanes)"
   ]
  },
  {
   "cell_type": "code",
   "execution_count": null,
   "id": "84dd079b",
   "metadata": {},
   "outputs": [],
   "source": [
    "sns.jointplot(x=\"Age\",y=\"Weight\",data=nhanes,kind=\"kde\")"
   ]
  },
  {
   "cell_type": "markdown",
   "id": "3727029d",
   "metadata": {},
   "source": [
    "---\n",
    "## 分类图\n",
    "\n",
    "上面的绘图类型非常适合可视化连续 x 连续数据，但还有更好的方法来查看连续 x 分类数据。 例如，如果我们想按区域查看权重分布怎么办？\n",
    "\n",
    "一种方法是使用 catplot() 函数。 默认情况下，此函数将绘制按我们的分类变量分组的每个数据点，并带有一些抖动以帮助我们区分点："
   ]
  },
  {
   "cell_type": "code",
   "execution_count": null,
   "id": "af077ac8",
   "metadata": {},
   "outputs": [],
   "source": [
    "sns.catplot(x=\"Urban\",y=\"Weight\",data=nhanes,height=10)"
   ]
  },
  {
   "cell_type": "markdown",
   "id": "c2ad80fe",
   "metadata": {},
   "source": [
    "很难看出数据是如何分布的，因为它非常密集，所以让我们使用 `s` 参数以及每个点的 `alpha` 值来改变点的大小来帮助解决这个问题："
   ]
  },
  {
   "cell_type": "code",
   "execution_count": null,
   "id": "fc3ce8f7",
   "metadata": {},
   "outputs": [],
   "source": [
    "sns.catplot(x=\"Urban\",y=\"Weight\",data=nhanes,height=10,s=2,alpha=0.2)"
   ]
  },
  {
   "cell_type": "markdown",
   "id": "2b4e1700",
   "metadata": {},
   "source": [
    "### Categorial summary plots"
   ]
  },
  {
   "cell_type": "markdown",
   "id": "723f7888",
   "metadata": {},
   "source": [
    "这里仍然有很多数据，因此使用汇总工具可能更容易可视化此分布。 幸运的是，`catplot()` 可以通过使用 `kind` 参数轻松更改绘图类型。 我们可以将此图更改为传统的盒须图："
   ]
  },
  {
   "cell_type": "code",
   "execution_count": null,
   "id": "32be7c1c",
   "metadata": {},
   "outputs": [],
   "source": [
    "sns.catplot(x=\"Urban\",y=\"Weight\",data=nhanes,height=10,kind=\"box\")"
   ]
  },
  {
   "cell_type": "code",
   "execution_count": null,
   "id": "7d095c93",
   "metadata": {},
   "outputs": [],
   "source": [
    "sns.catplot(x=\"Urban\",y=\"Weight\",data=nhanes,height=10,kind=\"violin\")\n",
    "# sns.stripplot(x=\"Urban\",y=\"Weight\",data=nhanes, jitter=True, color=\"black\",s=2,alpha=0.2)"
   ]
  },
  {
   "cell_type": "markdown",
   "id": "1053f467",
   "metadata": {},
   "source": [
    "现在我们可以真正了解权重变量是如何按城市区域分布的。"
   ]
  },
  {
   "cell_type": "markdown",
   "id": "fa448014",
   "metadata": {},
   "source": [
    "有时，尤其是当你的分类变量中有多个级别时，只绘制摘要而不需要太多有关数据分布方式的信息会容易得多。 为了做到这一点，我们可以将 `kind` 设置为 `point` ："
   ]
  },
  {
   "cell_type": "code",
   "execution_count": null,
   "id": "d91e32aa",
   "metadata": {},
   "outputs": [],
   "source": [
    "sns.catplot(x=\"Region\",y=\"Weight\",data=nhanes,aspect=2,kind=\"point\",join=False)"
   ]
  },
  {
   "cell_type": "markdown",
   "id": "3927389d",
   "metadata": {},
   "source": [
    "---\n",
    "## 将线性模型拟合到数据\n",
    "\n",
    "假设我们认为身高和体重之间可能存在线性关系。 我们可以使用 lmplot() 函数来拟合和可视化一条线。 默认情况下，`seaborn` 将在此行上使用 95% 的置信区间。"
   ]
  },
  {
   "cell_type": "code",
   "execution_count": null,
   "id": "7e37be38",
   "metadata": {},
   "outputs": [],
   "source": [
    "sns.lmplot(x=\"Height\",y=\"Weight\",data=nhanes,height=8,scatter_kws={'s':2,'alpha':0.1})"
   ]
  },
  {
   "cell_type": "markdown",
   "id": "48fffcc8",
   "metadata": {},
   "source": [
    "我们可能还想通过我们的分类变量之一打破这种关系。 我们可以使用 `col` 或 `row` 参数来做到这一点："
   ]
  },
  {
   "cell_type": "code",
   "execution_count": null,
   "id": "9b8bb751",
   "metadata": {},
   "outputs": [],
   "source": [
    "sns.lmplot(x=\"Height\",y=\"Weight\",data=nhanes,height=8,scatter_kws={'s':2,'alpha':0.1},\n",
    "           truncate=True,col=\"Region\",col_wrap=2)"
   ]
  },
  {
   "cell_type": "markdown",
   "id": "3e66f21d",
   "metadata": {},
   "source": [
    "我们还可以通过颜色进一步区分："
   ]
  },
  {
   "cell_type": "code",
   "execution_count": null,
   "id": "23bc4980",
   "metadata": {},
   "outputs": [],
   "source": [
    "sns.lmplot(x=\"Height\",y=\"Weight\",data=nhanes,height=8,scatter_kws={'s':2,'alpha':0.1},\n",
    "           truncate=True,col=\"Region\",col_wrap=2,hue=\"Region\")"
   ]
  },
  {
   "cell_type": "markdown",
   "id": "bdff9956",
   "metadata": {},
   "source": [
    "我们还可以将 `col` 与 `row` 结合起来来表示我们的两个分类变量："
   ]
  },
  {
   "cell_type": "code",
   "execution_count": null,
   "id": "c656bc3c",
   "metadata": {},
   "outputs": [],
   "source": [
    "sns.lmplot(x=\"Height\",y=\"Weight\",data=nhanes,height=8,scatter_kws={'s':2,'alpha':0.1},\n",
    "           truncate=True,col=\"Urban\",row=\"Region\",hue=\"Region\")"
   ]
  },
  {
   "cell_type": "markdown",
   "id": "c7abc582",
   "metadata": {},
   "source": [
    "---\n",
    "＃＃ 风格\n",
    "\n",
    "您可能想要更改绘图的默认样式。 `seaborn` 可以使用 `set` 函数轻松地为笔记本或脚本中的所有绘图设置样式首选项。"
   ]
  },
  {
   "cell_type": "code",
   "execution_count": null,
   "id": "88e4e2c4",
   "metadata": {},
   "outputs": [],
   "source": [
    "help(sns.set)\n",
    "# sns.set?"
   ]
  },
  {
   "cell_type": "code",
   "execution_count": null,
   "id": "10aee08f",
   "metadata": {},
   "outputs": [],
   "source": [
    "sns.set(style=\"whitegrid\",font=\"Arial\",palette=\"Set1\",font_scale=2)\n",
    "\n",
    "sns.scatterplot(x=\"Height\",y=\"Weight\",hue=\"Urban\",data=nhanes)"
   ]
  },
  {
   "cell_type": "code",
   "execution_count": null,
   "id": "400799a2",
   "metadata": {},
   "outputs": [],
   "source": [
    "sns.set(style=\"dark\",palette=\"Set2\")\n",
    "sns.scatterplot(x=\"Height\",y=\"Weight\",hue=\"Urban\",data=nhanes)"
   ]
  },
  {
   "cell_type": "markdown",
   "id": "80ebdf18",
   "metadata": {},
   "source": [
    "就个人而言，我喜欢使用 `ticks` 样式和 `Arial` 字体，但你可以选择很多选项。 你还可以使用 `despine()` 函数从绘图中删除边框"
   ]
  },
  {
   "cell_type": "code",
   "execution_count": null,
   "id": "0da22996",
   "metadata": {},
   "outputs": [],
   "source": [
    "sns.set(style=\"ticks\",font=\"Arial\",palette=\"Pastel1\",font_scale=2)\n",
    "sns.scatterplot(x=\"Height\",y=\"Weight\",hue=\"Urban\",data=nhanes)\n",
    "sns.despine()"
   ]
  },
  {
   "cell_type": "markdown",
   "id": "30827637",
   "metadata": {},
   "source": [
    "---\n",
    "## 标题和标签\n",
    "\n",
    "为了添加标题并创建更多信息标签，我们需要使用`=`运算符将绘图另存为对象。 然后我们可以调用这个对象的 `set_{title,ylabel,xlabel}()` 函数来使绘图更清晰。"
   ]
  },
  {
   "cell_type": "code",
   "execution_count": null,
   "id": "957aaef2",
   "metadata": {},
   "outputs": [],
   "source": [
    "myPlot = sns.scatterplot(x=\"Height\",y=\"Weight\",hue=\"Urban\",data=nhanes);\n",
    "myPlot.set_title(\"Height and Weight by Urban Status\")\n",
    "myPlot.set_ylabel(\"Weight in pounds\")\n",
    "myPlot.set_xlabel(\"Height in inches\")\n",
    "sns.despine()"
   ]
  },
  {
   "cell_type": "markdown",
   "id": "10e7f301",
   "metadata": {},
   "source": [
    "---\n",
    "## 保存你的地块\n",
    "\n",
    "要将绘图保存为文件，您可以从绘图对象访问 savefig() 函数："
   ]
  },
  {
   "cell_type": "code",
   "execution_count": null,
   "id": "a6247d94",
   "metadata": {},
   "outputs": [],
   "source": [
    "# myPlot.figure.savefig(\"newPlotTest.pdf\")\n",
    "# 可以保存成不同格式（e.g., jpy, png）"
   ]
  },
  {
   "cell_type": "markdown",
   "id": "920d0a9c",
   "metadata": {},
   "source": [
    "---\n",
    "## Heatmaps"
   ]
  },
  {
   "cell_type": "code",
   "execution_count": null,
   "id": "4e07f41f",
   "metadata": {},
   "outputs": [],
   "source": [
    "np.random.seed(42)\n",
    "sub1_ts = np.random.rand(200,100) # 100个脑区，每个脑区采集到200个时间点的信号\n",
    "sub1_ts.shape"
   ]
  },
  {
   "cell_type": "code",
   "execution_count": null,
   "id": "33b89c22",
   "metadata": {},
   "outputs": [],
   "source": [
    "df = pd.DataFrame(sub1_ts,)\n",
    "df_corr = df.corr()"
   ]
  },
  {
   "cell_type": "code",
   "execution_count": null,
   "id": "46232919",
   "metadata": {},
   "outputs": [],
   "source": [
    "sns.heatmap(df_corr)"
   ]
  },
  {
   "cell_type": "code",
   "execution_count": null,
   "id": "52b492a1",
   "metadata": {},
   "outputs": [],
   "source": [
    "# Generate a mask for the upper triangle\n",
    "mask = np.triu(np.ones_like(df_corr, dtype=bool))\n",
    "\n",
    "# Set up the matplotlib figure\n",
    "f, ax = plt.subplots(figsize=(11, 9))\n",
    "\n",
    "# Generate a custom diverging colormap\n",
    "cmap = sns.diverging_palette(230, 20, as_cmap=True)\n",
    "\n",
    "# Draw the heatmap with the mask and correct aspect ratio\n",
    "sns.heatmap(df_corr, mask=mask, cmap=cmap, vmax=.8, center=0,\n",
    "            square=True, linewidths=.9, cbar_kws={\"shrink\": .5})"
   ]
  },
  {
   "cell_type": "markdown",
   "id": "da31735b",
   "metadata": {},
   "source": [
    "---\n",
    "## 时间序列图\n",
    "\n",
    "让我们编一些数据 10名被试在200个TR的fMRI中采集到的两个不同脑区的时间序列："
   ]
  },
  {
   "cell_type": "code",
   "execution_count": null,
   "id": "b8564697",
   "metadata": {},
   "outputs": [],
   "source": [
    "import numpy as np\n",
    "\n",
    "brainData = []\n",
    "for i in range(10): # 10名被试\n",
    "    ts = range(1,201) # 200个TR\n",
    "    np.random.seed(42)\n",
    "    brain1 = np.random.normal(100,5,200)\n",
    "    brain2 = np.random.normal(100,5,200)\n",
    "    brainData.append(pd.DataFrame({'ts':ts,'brain1':brain1,'brain2':brain2}))\n",
    "brainData = pd.concat(brainData).reset_index()   \n"
   ]
  },
  {
   "cell_type": "code",
   "execution_count": null,
   "id": "cadaf364",
   "metadata": {},
   "outputs": [],
   "source": [
    "brainData"
   ]
  },
  {
   "cell_type": "code",
   "execution_count": null,
   "id": "2a09ed11",
   "metadata": {},
   "outputs": [],
   "source": [
    "brainData = pd.melt(brainData,id_vars=['ts'],var_name='BrainRegions',value_vars=['brain1','brain2'])"
   ]
  },
  {
   "cell_type": "code",
   "execution_count": null,
   "id": "0ef1758b",
   "metadata": {},
   "outputs": [],
   "source": [
    "brainData"
   ]
  },
  {
   "cell_type": "code",
   "execution_count": null,
   "id": "54ce6f71",
   "metadata": {},
   "outputs": [],
   "source": [
    "brainData.to_csv(\"brainData.csv\",index=False)\n",
    "brainData = pd.read_csv(\"brainData.csv\")"
   ]
  },
  {
   "cell_type": "code",
   "execution_count": null,
   "id": "5c65dde2",
   "metadata": {},
   "outputs": [],
   "source": [
    "brainData"
   ]
  },
  {
   "cell_type": "markdown",
   "id": "64c1f9c8",
   "metadata": {},
   "source": [
    "函数 lineplot() 可用于使用 seaborn 可视化时间序列数据。 它的语法与我们上面使用的图完全一样。 此外，此函数会自动计算每个数据点周围的 95% 置信区间，并将它们显示为围绕平均线的连续带状图："
   ]
  },
  {
   "cell_type": "code",
   "execution_count": null,
   "id": "fd1106a6",
   "metadata": {},
   "outputs": [],
   "source": [
    "sns.lineplot(x=\"ts\",y=\"value\",hue=\"BrainRegions\",data=brainData)\n",
    "# sns.despine()"
   ]
  }
 ],
 "metadata": {
  "kernelspec": {
   "display_name": "Python 3",
   "language": "python",
   "name": "python3"
  },
  "language_info": {
   "codemirror_mode": {
    "name": "ipython",
    "version": 3
   },
   "file_extension": ".py",
   "mimetype": "text/x-python",
   "name": "python",
   "nbconvert_exporter": "python",
   "pygments_lexer": "ipython3",
   "version": "3.8.8"
  },
  "vscode": {
   "interpreter": {
    "hash": "36cf16204b8548560b1c020c4e8fb5b57f0e4c58016f52f2d4be01e192833930"
   }
  }
 },
 "nbformat": 4,
 "nbformat_minor": 5
}
