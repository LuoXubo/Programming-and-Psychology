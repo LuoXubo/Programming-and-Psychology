{
 "cells": [
  {
   "cell_type": "markdown",
   "id": "74361dc3",
   "metadata": {},
   "source": [
    "1. numpy <br>\n",
    "- 创建一个3*3的矩阵，所有值都在1到9之间<br>\n",
    "- 创建一个1到1000的数组，然后将其反转<br>\n",
    "- 生成一个长度为100所有值为0的数组，并将其偶数位设置为1<br>"
   ]
  },
  {
   "cell_type": "code",
   "execution_count": null,
   "id": "7d74d299",
   "metadata": {},
   "outputs": [],
   "source": []
  },
  {
   "cell_type": "markdown",
   "id": "5703399c",
   "metadata": {},
   "source": [
    "2. 研究人员对睡眠时间和焦虑水平之间的关系进行了一项研究.<br>\n",
    "    在本研究中，研究人员共收集了 30 名参与者的数据，记录了他们的睡眠时间和焦虑评分。<br>\n",
    "    你需要：\n",
    "    - 读取`sleep_anxiety.txt`\n",
    "    - 计算30名参与者`平均`睡觉时长和焦虑水平\n",
    "    - 计算睡觉时长和焦虑水平的相关性\n",
    "\n",
    "\n"
   ]
  },
  {
   "cell_type": "code",
   "execution_count": null,
   "id": "0f24a76f",
   "metadata": {},
   "outputs": [],
   "source": []
  },
  {
   "cell_type": "markdown",
   "id": "0e4bf595",
   "metadata": {},
   "source": [
    "3. 在一项研究压力水平和幸福水平相关性的实验中，研究人员收集了100名参与者当下的压力水平和幸福水平。<br>\n",
    "    他们以 1 到 10 的等级对他们的压力水平和幸福水平进行评分，除此之外还收集了其他人口统计信息，例如年龄和性别。<br>\n",
    "    你需要：\n",
    "    - 读取`stress_happiness.csv`\n",
    "    - 计算全部100名参与者幸福水平和压力水平的相关性，并使用绘制散点图和拟合线\n",
    "    - 按照性别计算男女幸福水平和压力水平的平均值，并分别绘制带误差条和散点的柱状图（如有能力放在subplot中）\n",
    "    - 在DataFrame中添加一列`Age Group`，按照['18-29', '30-39', '40-49', '50-64']年龄进行分组\n",
    "\n",
    "\n",
    "\n"
   ]
  },
  {
   "cell_type": "code",
   "execution_count": 1,
   "id": "748f8caa",
   "metadata": {},
   "outputs": [],
   "source": []
  },
  {
   "cell_type": "code",
   "execution_count": null,
   "id": "6885075f",
   "metadata": {},
   "outputs": [],
   "source": []
  },
  {
   "cell_type": "code",
   "execution_count": null,
   "id": "ecb3eab9",
   "metadata": {},
   "outputs": [],
   "source": []
  },
  {
   "cell_type": "markdown",
   "id": "d15147fa",
   "metadata": {},
   "source": [
    "4.做相关的热图。给定的delta.xlsx文件是记录了某次实验测量的一些问卷信息，尝试计算量表之间的相关性，并将结果可视化出来，将显著性介于0.05~0.01的用一颗*标注出来，0.01～0.001的用2颗*标注，小于0.001的使用***进行标注"
   ]
  },
  {
   "cell_type": "code",
   "execution_count": null,
   "id": "75c01e5e",
   "metadata": {},
   "outputs": [],
   "source": []
  }
 ],
 "metadata": {
  "kernelspec": {
   "display_name": "Python 3",
   "language": "python",
   "name": "python3"
  },
  "language_info": {
   "codemirror_mode": {
    "name": "ipython",
    "version": 3
   },
   "file_extension": ".py",
   "mimetype": "text/x-python",
   "name": "python",
   "nbconvert_exporter": "python",
   "pygments_lexer": "ipython3",
   "version": "3.8.8"
  },
  "vscode": {
   "interpreter": {
    "hash": "36cf16204b8548560b1c020c4e8fb5b57f0e4c58016f52f2d4be01e192833930"
   }
  }
 },
 "nbformat": 4,
 "nbformat_minor": 5
}
