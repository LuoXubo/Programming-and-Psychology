{
 "cells": [
  {
   "attachments": {},
   "cell_type": "markdown",
   "id": "74361dc3",
   "metadata": {},
   "source": [
    "1. numpy <br>\n",
    "- 创建一个3*3的矩阵，所有值都在1到9之间<br>\n",
    "- 创建一个1到1000的数组，然后将其反转<br>\n",
    "- 生成一个长度为100所有值为0的数组，并将其偶数位设置为1<br>"
   ]
  },
  {
   "cell_type": "code",
   "execution_count": 5,
   "id": "7d74d299",
   "metadata": {},
   "outputs": [
    {
     "name": "stdout",
     "output_type": "stream",
     "text": [
      "[[1 2 8]\n",
      " [6 9 5]\n",
      " [3 7 5]]\n",
      "[[801 439 819 923 311 972 708 357 395 194 242 919 183 461 592 853 444 535\n",
      "  711 249 861 945 452 144 210 488 963 796  76 610 841 596  13 300   1 460\n",
      "  122 419 871 587  89 819 990 708 125 122 941 213 495 390 557  49 821 307\n",
      "   25 650 704 963 416 892  44 254 824 487 300 504 194  64 245 308 600 555\n",
      "  590 227 155 111 104 169 153 420 105 967 116 354 164 746 320 275 782 684\n",
      "  169 238  31 701 812 482 116 454 132 797]]\n",
      "[0. 1. 0. 1. 0. 1. 0. 1. 0. 1. 0. 1. 0. 1. 0. 1. 0. 1. 0. 1. 0. 1. 0. 1.\n",
      " 0. 1. 0. 1. 0. 1. 0. 1. 0. 1. 0. 1. 0. 1. 0. 1. 0. 1. 0. 1. 0. 1. 0. 1.\n",
      " 0. 1. 0. 1. 0. 1. 0. 1. 0. 1. 0. 1. 0. 1. 0. 1. 0. 1. 0. 1. 0. 1. 0. 1.\n",
      " 0. 1. 0. 1. 0. 1. 0. 1. 0. 1. 0. 1. 0. 1. 0. 1. 0. 1. 0. 1. 0. 1. 0. 1.\n",
      " 0. 1. 0. 1.]\n"
     ]
    }
   ],
   "source": [
    "import numpy as np\n",
    "\n",
    "matrix = np.random.randint(1, 10, size=(3, 3))\n",
    "\n",
    "arr = np.random.randint(1, 1001, size=(1, 100))\n",
    "arr = np.flip(arr)\n",
    "\n",
    "oz = np.zeros(100)\n",
    "oz[1::2] = 1\n",
    "\n",
    "print(matrix)\n",
    "print(arr)\n",
    "print(oz)"
   ]
  },
  {
   "attachments": {},
   "cell_type": "markdown",
   "id": "5703399c",
   "metadata": {},
   "source": [
    "2. 研究人员对睡眠时间和焦虑水平之间的关系进行了一项研究.<br>\n",
    "    在本研究中，研究人员共收集了 30 名参与者的数据，记录了他们的睡眠时间和焦虑评分。<br>\n",
    "    你需要：\n",
    "    - 读取`sleep_anxiety.txt`\n",
    "    - 计算30名参与者`平均`睡觉时长和焦虑水平\n",
    "    - 计算睡觉时长和焦虑水平的相关性\n",
    "\n",
    "\n"
   ]
  },
  {
   "cell_type": "code",
   "execution_count": 10,
   "id": "0f24a76f",
   "metadata": {},
   "outputs": [
    {
     "name": "stdout",
     "output_type": "stream",
     "text": [
      "6.5\n",
      "4.833333333333333\n",
      "[[ 1.         -0.59373415]\n",
      " [-0.59373415  1.        ]]\n"
     ]
    }
   ],
   "source": [
    "sleep_data = np.loadtxt('sleep_anxiety.txt', delimiter=',', skiprows=1)\n",
    "\n",
    "mean_sleep_hour = np.mean(sleep_data[:, 0])\n",
    "mean_anxiety = np.mean(sleep_data[:, 1])\n",
    "\n",
    "print(mean_sleep_hour)\n",
    "print(mean_anxiety)\n",
    "\n",
    "corr = np.corrcoef(sleep_data[:, 0], sleep_data[:, 1])\n",
    "print(corr)"
   ]
  },
  {
   "attachments": {},
   "cell_type": "markdown",
   "id": "0e4bf595",
   "metadata": {},
   "source": [
    "3. 在一项研究压力水平和幸福水平相关性的实验中，研究人员收集了100名参与者当下的压力水平和幸福水平。<br>\n",
    "    他们以 1 到 10 的等级对他们的压力水平和幸福水平进行评分，除此之外还收集了其他人口统计信息，例如年龄和性别。<br>\n",
    "    你需要：\n",
    "    - 读取`stress_happiness.csv`\n",
    "    - 计算全部100名参与者幸福水平和压力水平的相关性，并使用绘制散点图和拟合线\n",
    "    - 按照性别计算男女幸福水平和压力水平的平均值，并分别绘制带误差条和散点的柱状图（如有能力放在subplot中）\n",
    "    - 在DataFrame中添加一列`Age Group`，按照['18-29', '30-39', '40-49', '50-64']年龄进行分组\n",
    "\n",
    "\n",
    "\n"
   ]
  },
  {
   "cell_type": "code",
   "execution_count": 17,
   "id": "748f8caa",
   "metadata": {},
   "outputs": [
    {
     "name": "stdout",
     "output_type": "stream",
     "text": [
      "[[ 1.         -0.31083871]\n",
      " [-0.31083871  1.        ]]\n"
     ]
    },
    {
     "data": {
      "image/png": "[encoded data removed]",
      "text/plain": [
       "<Figure size 640x480 with 1 Axes>"
      ]
     },
     "metadata": {},
     "output_type": "display_data"
    }
   ],
   "source": [
    "import pandas as pd\n",
    "stress_data = pd.read_csv('stress_happiness.csv', sep=',', header=0)\n",
    "\n",
    "corr = np.corrcoef(stress_data['Stress'], stress_data['Happiness'])\n",
    "print(corr)\n",
    "\n",
    "import matplotlib.pyplot as plt\n",
    "plt.plot(stress_data['Stress'], stress_data['Happiness'], 'o')\n",
    "plt.xlabel('Stress')\n",
    "plt.ylabel('Happiness')\n",
    "plt.show()\n",
    "\n",
    "male_data = stress_data[stress_data['Gender'] == 'Male']\n",
    "female_data = stress_data[stress_data['Gender'] == 'Female']\n",
    "\n",
    "male_happiness = np.mean(male_data['Happiness'])\n"
   ]
  },
  {
   "attachments": {},
   "cell_type": "markdown",
   "id": "d15147fa",
   "metadata": {},
   "source": [
    "4.做相关的热图。给定的delta.xlsx文件是记录了某次实验测量的一些问卷信息，尝试计算量表之间的相关性，并将结果可视化出来，将显著性介于0.05~0.01的用一颗*标注出来，0.01～0.001的用2颗*标注，小于0.001的使用***进行标注"
   ]
  },
  {
   "cell_type": "code",
   "execution_count": null,
   "id": "75c01e5e",
   "metadata": {},
   "outputs": [],
   "source": []
  }
 ],
 "metadata": {
  "kernelspec": {
   "display_name": "Python 3",
   "language": "python",
   "name": "python3"
  },
  "language_info": {
   "codemirror_mode": {
    "name": "ipython",
    "version": 3
   },
   "file_extension": ".py",
   "mimetype": "text/x-python",
   "name": "python",
   "nbconvert_exporter": "python",
   "pygments_lexer": "ipython3",
   "version": "3.8.18"
  },
  "vscode": {
   "interpreter": {
    "hash": "36cf16204b8548560b1c020c4e8fb5b57f0e4c58016f52f2d4be01e192833930"
   }
  }
 },
 "nbformat": 4,
 "nbformat_minor": 5
}
